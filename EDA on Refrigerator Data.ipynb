{
 "cells": [
  {
   "cell_type": "code",
   "execution_count": 1,
   "metadata": {},
   "outputs": [],
   "source": [
    "import matplotlib.pyplot as plt\n",
    "%matplotlib inline\n",
    "import pandas as pd\n",
    "import numpy as np\n",
    "import seaborn as sns\n",
    "import warnings\n",
    "warnings.filterwarnings('ignore')"
   ]
  },
  {
   "cell_type": "code",
   "execution_count": 2,
   "metadata": {},
   "outputs": [],
   "source": [
    "data=pd.read_excel(r\"C:\\Users\\Dell\\Documents\\Cargo\\Python files\\Dheeraj\\Web Scraping\\Team C Refrigerator Data.xlsx\")"
   ]
  },
  {
   "cell_type": "code",
   "execution_count": 3,
   "metadata": {},
   "outputs": [],
   "source": [
    "# data of dimension\n",
    "data1=pd.read_csv(r\"C:\\Users\\Dell\\Documents\\Cargo\\Python files\\Dheeraj\\Web Scraping\\dimension_refrigerator_dataset.csv\")"
   ]
  },
  {
   "cell_type": "code",
   "execution_count": 4,
   "metadata": {},
   "outputs": [],
   "source": [
    "data1=data1.drop_duplicates(subset='Name', keep='first', inplace=False)"
   ]
  },
  {
   "cell_type": "code",
   "execution_count": 5,
   "metadata": {},
   "outputs": [],
   "source": [
    "data = pd.merge(left=data, right=data1, how='inner', left_on='Product Name', right_on='Name')"
   ]
  },
  {
   "cell_type": "code",
   "execution_count": 6,
   "metadata": {},
   "outputs": [
    {
     "data": {
      "text/html": [
       "<div>\n",
       "<style scoped>\n",
       "    .dataframe tbody tr th:only-of-type {\n",
       "        vertical-align: middle;\n",
       "    }\n",
       "\n",
       "    .dataframe tbody tr th {\n",
       "        vertical-align: top;\n",
       "    }\n",
       "\n",
       "    .dataframe thead th {\n",
       "        text-align: right;\n",
       "    }\n",
       "</style>\n",
       "<table border=\"1\" class=\"dataframe\">\n",
       "  <thead>\n",
       "    <tr style=\"text-align: right;\">\n",
       "      <th></th>\n",
       "      <th>Product Name</th>\n",
       "      <th>Product Rating</th>\n",
       "      <th>Prices in Rs</th>\n",
       "      <th>Max Price</th>\n",
       "      <th>In The Box</th>\n",
       "      <th>Type</th>\n",
       "      <th>Refrigerator Type</th>\n",
       "      <th>Defrosting Type</th>\n",
       "      <th>Compressor Type</th>\n",
       "      <th>Capacity</th>\n",
       "      <th>Number of Doors</th>\n",
       "      <th>Star Rating</th>\n",
       "      <th>Coolpad</th>\n",
       "      <th>Toughened Glass</th>\n",
       "      <th>Built-in Stabilizer</th>\n",
       "      <th>Company Name</th>\n",
       "      <th>Height</th>\n",
       "      <th>Width</th>\n",
       "      <th>Depth</th>\n",
       "      <th>Weight</th>\n",
       "    </tr>\n",
       "  </thead>\n",
       "  <tbody>\n",
       "    <tr>\n",
       "      <th>0</th>\n",
       "      <td>Whirlpool 190 L Direct Cool Single Door 2 Star...</td>\n",
       "      <td>4.3</td>\n",
       "      <td>12740.0</td>\n",
       "      <td>14900.0</td>\n",
       "      <td>1 Refrigerator Unit, Warranty Card, User Manual</td>\n",
       "      <td>Single Door</td>\n",
       "      <td>Top Freezer Refrigerator</td>\n",
       "      <td>Direct Cool</td>\n",
       "      <td>Normal Compressor</td>\n",
       "      <td>190 L</td>\n",
       "      <td>1</td>\n",
       "      <td>2</td>\n",
       "      <td>No</td>\n",
       "      <td>Yes</td>\n",
       "      <td>Yes</td>\n",
       "      <td>Whirlpool</td>\n",
       "      <td>1191 mm</td>\n",
       "      <td>536 mm</td>\n",
       "      <td>604 mm</td>\n",
       "      <td>32.4 kg</td>\n",
       "    </tr>\n",
       "    <tr>\n",
       "      <th>1</th>\n",
       "      <td>Whirlpool 190 L Direct Cool Single Door 2 Star...</td>\n",
       "      <td>4.3</td>\n",
       "      <td>11990.0</td>\n",
       "      <td>14400.0</td>\n",
       "      <td>1 Refrigerator, User Manual, Warranty Card</td>\n",
       "      <td>Single Door</td>\n",
       "      <td>Top Freezer</td>\n",
       "      <td>Direct Cool</td>\n",
       "      <td>Normal Compressor</td>\n",
       "      <td>190 L</td>\n",
       "      <td>1</td>\n",
       "      <td>2</td>\n",
       "      <td>No</td>\n",
       "      <td>No</td>\n",
       "      <td>Yes</td>\n",
       "      <td>Whirlpool</td>\n",
       "      <td>1191 mm</td>\n",
       "      <td>536 mm</td>\n",
       "      <td>604 mm</td>\n",
       "      <td>32.4 kg</td>\n",
       "    </tr>\n",
       "    <tr>\n",
       "      <th>2</th>\n",
       "      <td>Whirlpool 190 L Direct Cool Single Door 2 Star...</td>\n",
       "      <td>4.3</td>\n",
       "      <td>11990.0</td>\n",
       "      <td>14400.0</td>\n",
       "      <td>1 Refrigerator, User Manual, Warranty Card</td>\n",
       "      <td>Single Door</td>\n",
       "      <td>Top Freezer</td>\n",
       "      <td>Direct Cool</td>\n",
       "      <td>Normal Compressor</td>\n",
       "      <td>190 L</td>\n",
       "      <td>1</td>\n",
       "      <td>2</td>\n",
       "      <td>No</td>\n",
       "      <td>No</td>\n",
       "      <td>Yes</td>\n",
       "      <td>Whirlpool</td>\n",
       "      <td>1191 mm</td>\n",
       "      <td>536 mm</td>\n",
       "      <td>604 mm</td>\n",
       "      <td>32.4 kg</td>\n",
       "    </tr>\n",
       "    <tr>\n",
       "      <th>3</th>\n",
       "      <td>Whirlpool 190 L Direct Cool Single Door 2 Star...</td>\n",
       "      <td>4.3</td>\n",
       "      <td>13740.0</td>\n",
       "      <td>16000.0</td>\n",
       "      <td>1 Refrigerator Unit, Warranty Card, User Manual</td>\n",
       "      <td>Single Door</td>\n",
       "      <td>Top Freezer Refrigerator</td>\n",
       "      <td>Direct Cool</td>\n",
       "      <td>Normal Compressor</td>\n",
       "      <td>190 L</td>\n",
       "      <td>1</td>\n",
       "      <td>2</td>\n",
       "      <td>No</td>\n",
       "      <td>Yes</td>\n",
       "      <td>Yes</td>\n",
       "      <td>Whirlpool</td>\n",
       "      <td>1191 mm</td>\n",
       "      <td>536 mm</td>\n",
       "      <td>604 mm</td>\n",
       "      <td>32.4 kg</td>\n",
       "    </tr>\n",
       "    <tr>\n",
       "      <th>4</th>\n",
       "      <td>Whirlpool 190 L Direct Cool Single Door 2 Star...</td>\n",
       "      <td>4.3</td>\n",
       "      <td>12740.0</td>\n",
       "      <td>14900.0</td>\n",
       "      <td>1 Refrigerator Unit, Warranty Card, User Manual</td>\n",
       "      <td>Single Door</td>\n",
       "      <td>Top Freezer Refrigerator</td>\n",
       "      <td>Direct Cool</td>\n",
       "      <td>Normal Compressor</td>\n",
       "      <td>190 L</td>\n",
       "      <td>1</td>\n",
       "      <td>2</td>\n",
       "      <td>No</td>\n",
       "      <td>Yes</td>\n",
       "      <td>Yes</td>\n",
       "      <td>Whirlpool</td>\n",
       "      <td>1191 mm</td>\n",
       "      <td>536 mm</td>\n",
       "      <td>604 mm</td>\n",
       "      <td>32.4 kg</td>\n",
       "    </tr>\n",
       "  </tbody>\n",
       "</table>\n",
       "</div>"
      ],
      "text/plain": [
       "                                        Product Name  Product Rating  \\\n",
       "0  Whirlpool 190 L Direct Cool Single Door 2 Star...             4.3   \n",
       "1  Whirlpool 190 L Direct Cool Single Door 2 Star...             4.3   \n",
       "2  Whirlpool 190 L Direct Cool Single Door 2 Star...             4.3   \n",
       "3  Whirlpool 190 L Direct Cool Single Door 2 Star...             4.3   \n",
       "4  Whirlpool 190 L Direct Cool Single Door 2 Star...             4.3   \n",
       "\n",
       "   Prices in Rs  Max Price                                       In The Box  \\\n",
       "0       12740.0    14900.0  1 Refrigerator Unit, Warranty Card, User Manual   \n",
       "1       11990.0    14400.0       1 Refrigerator, User Manual, Warranty Card   \n",
       "2       11990.0    14400.0       1 Refrigerator, User Manual, Warranty Card   \n",
       "3       13740.0    16000.0  1 Refrigerator Unit, Warranty Card, User Manual   \n",
       "4       12740.0    14900.0  1 Refrigerator Unit, Warranty Card, User Manual   \n",
       "\n",
       "          Type         Refrigerator Type Defrosting Type    Compressor Type  \\\n",
       "0  Single Door  Top Freezer Refrigerator     Direct Cool  Normal Compressor   \n",
       "1  Single Door               Top Freezer     Direct Cool  Normal Compressor   \n",
       "2  Single Door               Top Freezer     Direct Cool  Normal Compressor   \n",
       "3  Single Door  Top Freezer Refrigerator     Direct Cool  Normal Compressor   \n",
       "4  Single Door  Top Freezer Refrigerator     Direct Cool  Normal Compressor   \n",
       "\n",
       "  Capacity  Number of Doors Star Rating Coolpad Toughened Glass  \\\n",
       "0    190 L                1           2      No             Yes   \n",
       "1    190 L                1           2      No              No   \n",
       "2    190 L                1           2      No              No   \n",
       "3    190 L                1           2      No             Yes   \n",
       "4    190 L                1           2      No             Yes   \n",
       "\n",
       "  Built-in Stabilizer Company Name   Height   Width   Depth   Weight  \n",
       "0                 Yes    Whirlpool  1191 mm  536 mm  604 mm  32.4 kg  \n",
       "1                 Yes    Whirlpool  1191 mm  536 mm  604 mm  32.4 kg  \n",
       "2                 Yes    Whirlpool  1191 mm  536 mm  604 mm  32.4 kg  \n",
       "3                 Yes    Whirlpool  1191 mm  536 mm  604 mm  32.4 kg  \n",
       "4                 Yes    Whirlpool  1191 mm  536 mm  604 mm  32.4 kg  "
      ]
     },
     "execution_count": 6,
     "metadata": {},
     "output_type": "execute_result"
    }
   ],
   "source": [
    "data=data.drop(['Unnamed: 0','Name'],axis=1)\n",
    "data.head()"
   ]
  },
  {
   "cell_type": "code",
   "execution_count": 7,
   "metadata": {},
   "outputs": [
    {
     "data": {
      "text/plain": [
       "(833, 20)"
      ]
     },
     "execution_count": 7,
     "metadata": {},
     "output_type": "execute_result"
    }
   ],
   "source": [
    "data.shape"
   ]
  },
  {
   "cell_type": "code",
   "execution_count": 8,
   "metadata": {},
   "outputs": [
    {
     "name": "stdout",
     "output_type": "stream",
     "text": [
      "<class 'pandas.core.frame.DataFrame'>\n",
      "Int64Index: 833 entries, 0 to 832\n",
      "Data columns (total 20 columns):\n",
      " #   Column               Non-Null Count  Dtype  \n",
      "---  ------               --------------  -----  \n",
      " 0   Product Name         828 non-null    object \n",
      " 1   Product Rating       635 non-null    float64\n",
      " 2   Prices in Rs         828 non-null    float64\n",
      " 3   Max Price            807 non-null    float64\n",
      " 4   In The Box           831 non-null    object \n",
      " 5   Type                 833 non-null    object \n",
      " 6   Refrigerator Type    833 non-null    object \n",
      " 7   Defrosting Type      833 non-null    object \n",
      " 8   Compressor Type      832 non-null    object \n",
      " 9   Capacity             833 non-null    object \n",
      " 10  Number of Doors      833 non-null    int64  \n",
      " 11  Star Rating          769 non-null    object \n",
      " 12  Coolpad              833 non-null    object \n",
      " 13  Toughened Glass      833 non-null    object \n",
      " 14  Built-in Stabilizer  833 non-null    object \n",
      " 15  Company Name         828 non-null    object \n",
      " 16  Height               831 non-null    object \n",
      " 17  Width                831 non-null    object \n",
      " 18  Depth                831 non-null    object \n",
      " 19  Weight               831 non-null    object \n",
      "dtypes: float64(3), int64(1), object(16)\n",
      "memory usage: 136.7+ KB\n"
     ]
    }
   ],
   "source": [
    "data.info()"
   ]
  },
  {
   "cell_type": "code",
   "execution_count": 9,
   "metadata": {},
   "outputs": [
    {
     "data": {
      "text/plain": [
       "Product Name             5\n",
       "Product Rating         198\n",
       "Prices in Rs             5\n",
       "Max Price               26\n",
       "In The Box               2\n",
       "Type                     0\n",
       "Refrigerator Type        0\n",
       "Defrosting Type          0\n",
       "Compressor Type          1\n",
       "Capacity                 0\n",
       "Number of Doors          0\n",
       "Star Rating             64\n",
       "Coolpad                  0\n",
       "Toughened Glass          0\n",
       "Built-in Stabilizer      0\n",
       "Company Name             5\n",
       "Height                   2\n",
       "Width                    2\n",
       "Depth                    2\n",
       "Weight                   2\n",
       "dtype: int64"
      ]
     },
     "execution_count": 9,
     "metadata": {},
     "output_type": "execute_result"
    }
   ],
   "source": [
    "data.isnull().sum()"
   ]
  },
  {
   "cell_type": "markdown",
   "metadata": {},
   "source": [
    "### droping columns without product name as it is one of most important columns"
   ]
  },
  {
   "cell_type": "code",
   "execution_count": 10,
   "metadata": {},
   "outputs": [],
   "source": [
    "data=data.dropna(subset=['Product Name'])"
   ]
  },
  {
   "cell_type": "code",
   "execution_count": 11,
   "metadata": {},
   "outputs": [
    {
     "data": {
      "text/plain": [
       "Product Name             0\n",
       "Product Rating         193\n",
       "Prices in Rs             0\n",
       "Max Price               21\n",
       "In The Box               2\n",
       "Type                     0\n",
       "Refrigerator Type        0\n",
       "Defrosting Type          0\n",
       "Compressor Type          1\n",
       "Capacity                 0\n",
       "Number of Doors          0\n",
       "Star Rating             63\n",
       "Coolpad                  0\n",
       "Toughened Glass          0\n",
       "Built-in Stabilizer      0\n",
       "Company Name             0\n",
       "Height                   2\n",
       "Width                    2\n",
       "Depth                    2\n",
       "Weight                   2\n",
       "dtype: int64"
      ]
     },
     "execution_count": 11,
     "metadata": {},
     "output_type": "execute_result"
    }
   ],
   "source": [
    "data.isnull().sum()"
   ]
  },
  {
   "cell_type": "markdown",
   "metadata": {},
   "source": [
    "### From capacity column we will remove mention of liters"
   ]
  },
  {
   "cell_type": "code",
   "execution_count": 12,
   "metadata": {},
   "outputs": [],
   "source": [
    "data['Capacity'] = data['Capacity'].str.lower() #changing it to lower case\n",
    "data[\"Capacity\"]=data[\"Capacity\"].str.replace(\" l\",\"\")"
   ]
  },
  {
   "cell_type": "code",
   "execution_count": 13,
   "metadata": {},
   "outputs": [
    {
     "data": {
      "text/html": [
       "<div>\n",
       "<style scoped>\n",
       "    .dataframe tbody tr th:only-of-type {\n",
       "        vertical-align: middle;\n",
       "    }\n",
       "\n",
       "    .dataframe tbody tr th {\n",
       "        vertical-align: top;\n",
       "    }\n",
       "\n",
       "    .dataframe thead th {\n",
       "        text-align: right;\n",
       "    }\n",
       "</style>\n",
       "<table border=\"1\" class=\"dataframe\">\n",
       "  <thead>\n",
       "    <tr style=\"text-align: right;\">\n",
       "      <th></th>\n",
       "      <th>Product Name</th>\n",
       "      <th>Product Rating</th>\n",
       "      <th>Prices in Rs</th>\n",
       "      <th>Max Price</th>\n",
       "      <th>In The Box</th>\n",
       "      <th>Type</th>\n",
       "      <th>Refrigerator Type</th>\n",
       "      <th>Defrosting Type</th>\n",
       "      <th>Compressor Type</th>\n",
       "      <th>Capacity</th>\n",
       "      <th>Number of Doors</th>\n",
       "      <th>Star Rating</th>\n",
       "      <th>Coolpad</th>\n",
       "      <th>Toughened Glass</th>\n",
       "      <th>Built-in Stabilizer</th>\n",
       "      <th>Company Name</th>\n",
       "      <th>Height</th>\n",
       "      <th>Width</th>\n",
       "      <th>Depth</th>\n",
       "      <th>Weight</th>\n",
       "    </tr>\n",
       "  </thead>\n",
       "  <tbody>\n",
       "    <tr>\n",
       "      <th>48</th>\n",
       "      <td>LG 190 L Direct Cool Single Door 3 Star Refrig...</td>\n",
       "      <td>4.4</td>\n",
       "      <td>15999.0</td>\n",
       "      <td>17690.0</td>\n",
       "      <td>1 Refrigerator Unit, Owner Manual</td>\n",
       "      <td>Single Door</td>\n",
       "      <td>Top Freezer Refrigerator</td>\n",
       "      <td>Direct Cool</td>\n",
       "      <td>Normal Compressor</td>\n",
       "      <td>190</td>\n",
       "      <td>1</td>\n",
       "      <td>3</td>\n",
       "      <td>No</td>\n",
       "      <td>Yes</td>\n",
       "      <td>Yes</td>\n",
       "      <td>LG</td>\n",
       "      <td>1172 mm</td>\n",
       "      <td>534 mm</td>\n",
       "      <td>633 mm</td>\n",
       "      <td>31 kg</td>\n",
       "    </tr>\n",
       "    <tr>\n",
       "      <th>23</th>\n",
       "      <td>SAMSUNG 198 L Direct Cool Single Door 4 Star R...</td>\n",
       "      <td>NaN</td>\n",
       "      <td>18499.0</td>\n",
       "      <td>20290.0</td>\n",
       "      <td>1 Refrigerator Unit, Owner Manual</td>\n",
       "      <td>Single Door</td>\n",
       "      <td>Top Freezer Refrigerator</td>\n",
       "      <td>Direct Cool</td>\n",
       "      <td>Digital Inverter Compressor</td>\n",
       "      <td>198</td>\n",
       "      <td>1</td>\n",
       "      <td>4</td>\n",
       "      <td>Yes</td>\n",
       "      <td>Yes</td>\n",
       "      <td>Yes</td>\n",
       "      <td>SAMSUNG</td>\n",
       "      <td>132.5 cm</td>\n",
       "      <td>57.8 cm</td>\n",
       "      <td>71.5 cm</td>\n",
       "      <td>39 kg</td>\n",
       "    </tr>\n",
       "    <tr>\n",
       "      <th>550</th>\n",
       "      <td>Haier 320 L Frost Free Double Door 2 Star Refr...</td>\n",
       "      <td>4.1</td>\n",
       "      <td>37599.0</td>\n",
       "      <td>48600.0</td>\n",
       "      <td>1 RefrigeratorUser ManualWarranty CardKeyIce Tray</td>\n",
       "      <td>Double Door</td>\n",
       "      <td>Bottom Mount</td>\n",
       "      <td>Frost Free</td>\n",
       "      <td>Reciprocatory Compressor</td>\n",
       "      <td>320</td>\n",
       "      <td>2</td>\n",
       "      <td>2</td>\n",
       "      <td>No</td>\n",
       "      <td>Yes</td>\n",
       "      <td>Yes</td>\n",
       "      <td>Haier</td>\n",
       "      <td>1600 mm</td>\n",
       "      <td>595 mm</td>\n",
       "      <td>641.5 mm</td>\n",
       "      <td>72 kg</td>\n",
       "    </tr>\n",
       "    <tr>\n",
       "      <th>530</th>\n",
       "      <td>LG 185 L Direct Cool Single Door 2 Star Refrig...</td>\n",
       "      <td>NaN</td>\n",
       "      <td>14250.0</td>\n",
       "      <td>14990.0</td>\n",
       "      <td>1 Refrigerator Unit, User Manual</td>\n",
       "      <td>Single Door</td>\n",
       "      <td>Top Mount</td>\n",
       "      <td>Direct Cool</td>\n",
       "      <td>Smart Inverter Compressor</td>\n",
       "      <td>185</td>\n",
       "      <td>1</td>\n",
       "      <td>2</td>\n",
       "      <td>No</td>\n",
       "      <td>No</td>\n",
       "      <td>Yes</td>\n",
       "      <td>LG</td>\n",
       "      <td>1147 mm</td>\n",
       "      <td>538 mm</td>\n",
       "      <td>590 mm</td>\n",
       "      <td>32 kg</td>\n",
       "    </tr>\n",
       "    <tr>\n",
       "      <th>516</th>\n",
       "      <td>Godrej 192 L Direct Cool Single Door 5 Star Re...</td>\n",
       "      <td>4.5</td>\n",
       "      <td>17190.0</td>\n",
       "      <td>20500.0</td>\n",
       "      <td>1 Refrigerator, User Manual and Warranty Card</td>\n",
       "      <td>Single Door</td>\n",
       "      <td>Top Freezer Refrigerator</td>\n",
       "      <td>Direct Cool</td>\n",
       "      <td>Hygiene+ Inverter Technology</td>\n",
       "      <td>192</td>\n",
       "      <td>1</td>\n",
       "      <td>5</td>\n",
       "      <td>No</td>\n",
       "      <td>Yes</td>\n",
       "      <td>No</td>\n",
       "      <td>Godrej</td>\n",
       "      <td>119 cm</td>\n",
       "      <td>57.5 cm</td>\n",
       "      <td>64 cm</td>\n",
       "      <td>37 kg</td>\n",
       "    </tr>\n",
       "  </tbody>\n",
       "</table>\n",
       "</div>"
      ],
      "text/plain": [
       "                                          Product Name  Product Rating  \\\n",
       "48   LG 190 L Direct Cool Single Door 3 Star Refrig...             4.4   \n",
       "23   SAMSUNG 198 L Direct Cool Single Door 4 Star R...             NaN   \n",
       "550  Haier 320 L Frost Free Double Door 2 Star Refr...             4.1   \n",
       "530  LG 185 L Direct Cool Single Door 2 Star Refrig...             NaN   \n",
       "516  Godrej 192 L Direct Cool Single Door 5 Star Re...             4.5   \n",
       "\n",
       "     Prices in Rs  Max Price  \\\n",
       "48        15999.0    17690.0   \n",
       "23        18499.0    20290.0   \n",
       "550       37599.0    48600.0   \n",
       "530       14250.0    14990.0   \n",
       "516       17190.0    20500.0   \n",
       "\n",
       "                                            In The Box         Type  \\\n",
       "48                   1 Refrigerator Unit, Owner Manual  Single Door   \n",
       "23                   1 Refrigerator Unit, Owner Manual  Single Door   \n",
       "550  1 RefrigeratorUser ManualWarranty CardKeyIce Tray  Double Door   \n",
       "530                   1 Refrigerator Unit, User Manual  Single Door   \n",
       "516      1 Refrigerator, User Manual and Warranty Card  Single Door   \n",
       "\n",
       "            Refrigerator Type Defrosting Type               Compressor Type  \\\n",
       "48   Top Freezer Refrigerator     Direct Cool             Normal Compressor   \n",
       "23   Top Freezer Refrigerator     Direct Cool   Digital Inverter Compressor   \n",
       "550              Bottom Mount      Frost Free      Reciprocatory Compressor   \n",
       "530                 Top Mount     Direct Cool     Smart Inverter Compressor   \n",
       "516  Top Freezer Refrigerator     Direct Cool  Hygiene+ Inverter Technology   \n",
       "\n",
       "    Capacity  Number of Doors Star Rating Coolpad Toughened Glass  \\\n",
       "48       190                1           3      No             Yes   \n",
       "23       198                1           4     Yes             Yes   \n",
       "550      320                2           2      No             Yes   \n",
       "530      185                1           2      No              No   \n",
       "516      192                1           5      No             Yes   \n",
       "\n",
       "    Built-in Stabilizer Company Name    Height    Width     Depth Weight  \n",
       "48                  Yes           LG   1172 mm   534 mm    633 mm  31 kg  \n",
       "23                  Yes      SAMSUNG  132.5 cm  57.8 cm   71.5 cm  39 kg  \n",
       "550                 Yes        Haier   1600 mm   595 mm  641.5 mm  72 kg  \n",
       "530                 Yes           LG   1147 mm   538 mm    590 mm  32 kg  \n",
       "516                  No       Godrej    119 cm  57.5 cm     64 cm  37 kg  "
      ]
     },
     "execution_count": 13,
     "metadata": {},
     "output_type": "execute_result"
    }
   ],
   "source": [
    "data.sample(5)"
   ]
  },
  {
   "cell_type": "markdown",
   "metadata": {},
   "source": [
    "#### where Max Price is not Given It means Product is being sold for highest price\n",
    "####  we Put MRP same as Selling Price"
   ]
  },
  {
   "cell_type": "code",
   "execution_count": 14,
   "metadata": {},
   "outputs": [],
   "source": [
    "data[\"Max Price\"].fillna(data[\"Prices in Rs\"], inplace=True)"
   ]
  },
  {
   "cell_type": "code",
   "execution_count": 15,
   "metadata": {},
   "outputs": [
    {
     "data": {
      "text/plain": [
       "Product Name             0\n",
       "Product Rating         193\n",
       "Prices in Rs             0\n",
       "Max Price                0\n",
       "In The Box               2\n",
       "Type                     0\n",
       "Refrigerator Type        0\n",
       "Defrosting Type          0\n",
       "Compressor Type          1\n",
       "Capacity                 0\n",
       "Number of Doors          0\n",
       "Star Rating             63\n",
       "Coolpad                  0\n",
       "Toughened Glass          0\n",
       "Built-in Stabilizer      0\n",
       "Company Name             0\n",
       "Height                   2\n",
       "Width                    2\n",
       "Depth                    2\n",
       "Weight                   2\n",
       "dtype: int64"
      ]
     },
     "execution_count": 15,
     "metadata": {},
     "output_type": "execute_result"
    }
   ],
   "source": [
    "data.isnull().sum()"
   ]
  },
  {
   "cell_type": "code",
   "execution_count": 16,
   "metadata": {},
   "outputs": [
    {
     "data": {
      "text/plain": [
       "(828, 20)"
      ]
     },
     "execution_count": 16,
     "metadata": {},
     "output_type": "execute_result"
    }
   ],
   "source": [
    "data.shape"
   ]
  },
  {
   "cell_type": "code",
   "execution_count": 17,
   "metadata": {},
   "outputs": [
    {
     "data": {
      "text/plain": [
       "array(['Whirlpool', 'SAMSUNG', 'LG', 'Haier', 'Godrej', 'CANDY', 'ONIDA',\n",
       "       'Lloyd', 'Midea', 'Liebherr', 'Panasonic', 'MarQ', 'Hisense',\n",
       "       'BOSCH', 'Voltas', 'Motorola', 'Hitachi', 'Lifelong', 'Galanz',\n",
       "       'TOSHIBA', 'Electrolux', 'MOTOROLA', 'MITASHI', 'Croma'],\n",
       "      dtype=object)"
      ]
     },
     "execution_count": 17,
     "metadata": {},
     "output_type": "execute_result"
    }
   ],
   "source": [
    "data['Company Name'].unique()"
   ]
  },
  {
   "cell_type": "markdown",
   "metadata": {},
   "source": [
    "#### Same company Name is multiple times so we will that"
   ]
  },
  {
   "cell_type": "code",
   "execution_count": 18,
   "metadata": {},
   "outputs": [],
   "source": [
    "def replace_name(a,b):\n",
    "    data['Company Name'].replace(a,b,inplace=True)\n",
    "\n",
    "replace_name('Motorola','MOTOROLA')"
   ]
  },
  {
   "cell_type": "markdown",
   "metadata": {},
   "source": [
    "- Motorola will change to MOTOROLA"
   ]
  },
  {
   "cell_type": "code",
   "execution_count": 19,
   "metadata": {},
   "outputs": [
    {
     "data": {
      "text/plain": [
       "array(['Whirlpool', 'SAMSUNG', 'LG', 'Haier', 'Godrej', 'CANDY', 'ONIDA',\n",
       "       'Lloyd', 'Midea', 'Liebherr', 'Panasonic', 'MarQ', 'Hisense',\n",
       "       'BOSCH', 'Voltas', 'MOTOROLA', 'Hitachi', 'Lifelong', 'Galanz',\n",
       "       'TOSHIBA', 'Electrolux', 'MITASHI', 'Croma'], dtype=object)"
      ]
     },
     "execution_count": 19,
     "metadata": {},
     "output_type": "execute_result"
    }
   ],
   "source": [
    "data['Company Name'].unique()"
   ]
  },
  {
   "cell_type": "code",
   "execution_count": 20,
   "metadata": {},
   "outputs": [
    {
     "data": {
      "text/plain": [
       "Whirlpool     216\n",
       "SAMSUNG       184\n",
       "LG            147\n",
       "Haier         103\n",
       "Godrej         66\n",
       "Panasonic      25\n",
       "BOSCH          15\n",
       "Lloyd           9\n",
       "Liebherr        8\n",
       "ONIDA           8\n",
       "Voltas          8\n",
       "MarQ            7\n",
       "Midea           7\n",
       "Hisense         5\n",
       "Hitachi         4\n",
       "TOSHIBA         3\n",
       "MOTOROLA        3\n",
       "Lifelong        2\n",
       "Croma           2\n",
       "Galanz          2\n",
       "CANDY           2\n",
       "MITASHI         1\n",
       "Electrolux      1\n",
       "Name: Company Name, dtype: int64"
      ]
     },
     "execution_count": 20,
     "metadata": {},
     "output_type": "execute_result"
    }
   ],
   "source": [
    "data['Company Name'].value_counts()"
   ]
  },
  {
   "cell_type": "markdown",
   "metadata": {},
   "source": [
    "## checking for duplicate entries"
   ]
  },
  {
   "cell_type": "code",
   "execution_count": 21,
   "metadata": {},
   "outputs": [
    {
     "data": {
      "text/plain": [
       "Product Name                                                                                   Product Rating  Prices in Rs  Max Price  In The Box                                                              Type          Refrigerator Type          Defrosting Type  Compressor Type                  Capacity  Number of Doors  Star Rating          Coolpad  Toughened Glass  Built-in Stabilizer  Company Name  Height    Width    Depth    Weight \n",
       "Whirlpool 190 L Direct Cool Single Door 2 Star Refrigerator                                    4.3             11990.0       14400.0    1 Refrigerator, User Manual, Warranty Card                              Single Door   Top Freezer                Direct Cool      Normal Compressor                190       1                2                    No       No               Yes                  Whirlpool     1191 mm   536 mm   604 mm   32.4 kg    3\n",
       "                                                                                                               12740.0       14900.0    1 Refrigerator Unit, Warranty Card, User Manual                         Single Door   Top Freezer Refrigerator   Direct Cool      Normal Compressor                190       1                2                    No       Yes              Yes                  Whirlpool     1191 mm   536 mm   604 mm   32.4 kg    3\n",
       "                                                                                                               13740.0       16000.0    1 Refrigerator Unit, Warranty Card, User Manual                         Single Door   Top Freezer Refrigerator   Direct Cool      Normal Compressor                190       1                2                    No       Yes              Yes                  Whirlpool     1191 mm   536 mm   604 mm   32.4 kg    3\n",
       "BOSCH 288 L Frost Free Double Door 3 Star Refrigerator                                         4.2             25990.0       34999.0    1 Refrigerator UnitUser ManualEgg Tray                                  Double Door   Top Mount                  Frost Free       Vario Inverter Compressor        288       2                3                    No       Yes              Yes                  BOSCH         167.9 cm  62.8 cm  60.5 cm  65.8 kg    2\n",
       "Godrej 215 L Direct Cool Single Door 4 Star Refrigerator with Base Drawer                      4.3             17490.0       20990.0    1 Refrigerator, Manual, Warranty Card                                   Single Door   Top Freezer Refrigerator   Direct Cool      Intelligent Inverter Compressor  215       1                4                    No       Yes              Yes                  Godrej        141 cm    67.1 cm  57.6 cm  43 kg      2\n",
       "                                                                                                                                                                                                                                                                                                                                                                                                                                                              ..\n",
       "LG 260 L Frost Free Double Door 2 Star Convertible Refrigerator with Convertible Refrigerator  4.4             23490.0       28890.0    1 Refrigerator Unit, User Manual, Warranty Card, Double Twist Ice Tray  Double Door   Top Mount                  Frost Free       Smart Inverter Compressor        260       2                2                    No       Yes              Yes                  LG            1475 mm   585 mm   669 mm   35 kg      1\n",
       "LG 260 L Frost Free Double Door 2 Star Convertible Refrigerator                                4.4             29499.0       32090.0    1 Refrigerator Unit, User Manual, Warranty Card, Double Twist Ice Tray  Double Door   Top Mount                  Frost Free       Smart Inverter Compressor        260       2                2                    No       Yes              Yes                  LG            1475 mm   1475 mm  703 mm   50 kg      1\n",
       "                                                                                               4.3             23890.0       31690.0    1 Refrigerator Unit, User Manual, Warranty Card, Double Twist Ice Tray  Double Door   Top Mount                  Frost Free       Smart Inverter Compressor        260       2                2                    No       Yes              Yes                  LG            1475 mm   1475 mm  703 mm   50 kg      1\n",
       "                                                                                               3.8             24990.0       33890.0    1 Refrigerator Unit, Owner Manual                                       Double Door   Top Freezer Refrigerator   Frost Free       Smart Inverter Compressor        260       2                2                    No       Yes              Yes                  LG            1475 mm   1475 mm  703 mm   50 kg      1\n",
       "Whirlpool 570 L Frost Free Side by Side Inverter Technology Star Refrigerator                  4.3             61990.0       88200.0    1 Refrigerator, User Manual, Warranty Card                              Side by Side  Side by Side Refrigerator  Frost Free       Intellisense Inverter            570       2                Inverter Technology  No       Yes              Yes                  Whirlpool     1770 mm   900 mm   660 mm   81 kg      1\n",
       "Length: 543, dtype: int64"
      ]
     },
     "execution_count": 21,
     "metadata": {},
     "output_type": "execute_result"
    }
   ],
   "source": [
    "data.value_counts()"
   ]
  },
  {
   "cell_type": "code",
   "execution_count": 22,
   "metadata": {},
   "outputs": [
    {
     "data": {
      "text/plain": [
       "(828, 20)"
      ]
     },
     "execution_count": 22,
     "metadata": {},
     "output_type": "execute_result"
    }
   ],
   "source": [
    "data.shape"
   ]
  },
  {
   "cell_type": "markdown",
   "metadata": {},
   "source": [
    "### droping duplicate entries"
   ]
  },
  {
   "cell_type": "code",
   "execution_count": 23,
   "metadata": {},
   "outputs": [],
   "source": [
    "data=data.drop_duplicates(subset=None, keep='first', inplace=False)"
   ]
  },
  {
   "cell_type": "code",
   "execution_count": 24,
   "metadata": {},
   "outputs": [
    {
     "data": {
      "text/plain": [
       "Product Name                                                                                 Product Rating  Prices in Rs  Max Price  In The Box                                                 Type          Refrigerator Type          Defrosting Type  Compressor Type              Capacity  Number of Doors  Star Rating          Coolpad  Toughened Glass  Built-in Stabilizer  Company Name  Height    Width    Depth    Weight \n",
       "BOSCH 288 L Frost Free Double Door 3 Star Refrigerator                                       4.2             25990.0       34999.0    1 Refrigerator UnitUser ManualEgg Tray                     Double Door   Top Mount                  Frost Free       Vario Inverter Compressor    288       2                3                    No       Yes              Yes                  BOSCH         167.9 cm  62.8 cm  60.5 cm  65.8 kg    1\n",
       "SAMSUNG 253 L Frost Free Double Door 3 Star Refrigerator                                     4.4             24690.0       28490.0    1 Unit Refrigerator, User Manual with Warranty Card        Double Door   Top Freezer                Frost Free       Digital Inverter Compressor  253       2                3                    Yes      Yes              Yes                  SAMSUNG       1545 mm   555 mm   637 mm   46 kg      1\n",
       "SAMSUNG 314 l Frost Free Double Door 2 Star Convertible Refrigerator with with Curd Maestro  4.3             32390.0       39990.0    1 Refrigerator Unit, User Manual, Warranty Card            Double Door   Top Mount                  Frost Free       Digital Inverter Compressor  314       2                2                    Yes      Yes              Yes                  SAMSUNG       1635 mm   600 mm   672 mm   55 kg      1\n",
       "SAMSUNG 314 L Frost Free Double Door 2 Star Refrigerator with Curd Maestro                   4.6             36990.0       41999.0    1 Refrigerator Unit, User Manual, Warranty Card, Egg Tray  Double Door   Top Mount                  Frost Free       Digital Inverter Compressor  314       2                2                    No       Yes              Yes                  SAMSUNG       1635 mm   600 mm   672 mm   55 kg      1\n",
       "                                                                                             4.4             36190.0       41990.0    1 Refrigerator Unit, User Manual, Warranty Card, Egg Tray  Double Door   Top Mount                  Frost Free       Digital Inverter Compressor  314       2                2                    No       Yes              Yes                  SAMSUNG       1635 mm   600 mm   672 mm   55 kg      1\n",
       "                                                                                                                                                                                                                                                                                                                                                                                                                                           ..\n",
       "LG 215 L Direct Cool Single Door 3 Star Refrigerator                                         4.3             18290.0       19890.0    1 Refrigerator UnitOwner Manual                            Single Door   Top Mount                  Direct Cool      Smart Inverter Compressor    215       1                3                    No       Yes              Yes                  LG            1355 mm   591 mm   638 mm   33 kg      1\n",
       "                                                                                                             16989.0       20990.0    1 Refrigerator Unit, User Manual, Warranty Card, Ice Tray  Single Door   Top Mount                  Direct Cool      Conventional Compressor      215       1                3                    No       Yes              Yes                  LG            1355 mm   591 mm   638 mm   33 kg      1\n",
       "LG 190 L Direct Cool Single Door 5 Star Refrigerator with Base Drawer                        4.4             16590.0       20290.0    1 Refrigerator Unit, Owner Manual                          Single Door   Top Freezer Refrigerator   Direct Cool      Inverter Compressor          190       1                5                    No       Yes              Yes                  LG            1326 mm   534 mm   633 mm   34.5 kg    1\n",
       "LG 190 L Direct Cool Single Door 4 Star Refrigerator with Base Drawer                        4.4             17250.0       19190.0    1 Refrigerator Unit, Owner Manual                          Single Door   Top Freezer Refrigerator   Direct Cool      Smart Inverter Compressor    190       1                4                    No       Yes              Yes                  LG            132.6 cm  53.4 cm  63.3 cm  33 kg      1\n",
       "Whirlpool 570 L Frost Free Side by Side Inverter Technology Star Refrigerator                4.3             61990.0       88200.0    1 Refrigerator, User Manual, Warranty Card                 Side by Side  Side by Side Refrigerator  Frost Free       Intellisense Inverter        570       2                Inverter Technology  No       Yes              Yes                  Whirlpool     1770 mm   900 mm   660 mm   81 kg      1\n",
       "Length: 543, dtype: int64"
      ]
     },
     "execution_count": 24,
     "metadata": {},
     "output_type": "execute_result"
    }
   ],
   "source": [
    "data.value_counts()"
   ]
  },
  {
   "cell_type": "code",
   "execution_count": 25,
   "metadata": {},
   "outputs": [
    {
     "data": {
      "text/plain": [
       "(781, 20)"
      ]
     },
     "execution_count": 25,
     "metadata": {},
     "output_type": "execute_result"
    }
   ],
   "source": [
    "data.shape"
   ]
  },
  {
   "cell_type": "code",
   "execution_count": 26,
   "metadata": {},
   "outputs": [
    {
     "data": {
      "text/plain": [
       "Product Name             0\n",
       "Product Rating         187\n",
       "Prices in Rs             0\n",
       "Max Price                0\n",
       "In The Box               2\n",
       "Type                     0\n",
       "Refrigerator Type        0\n",
       "Defrosting Type          0\n",
       "Compressor Type          1\n",
       "Capacity                 0\n",
       "Number of Doors          0\n",
       "Star Rating             62\n",
       "Coolpad                  0\n",
       "Toughened Glass          0\n",
       "Built-in Stabilizer      0\n",
       "Company Name             0\n",
       "Height                   2\n",
       "Width                    2\n",
       "Depth                    2\n",
       "Weight                   2\n",
       "dtype: int64"
      ]
     },
     "execution_count": 26,
     "metadata": {},
     "output_type": "execute_result"
    }
   ],
   "source": [
    "data.isnull().sum()"
   ]
  },
  {
   "cell_type": "markdown",
   "metadata": {},
   "source": [
    "### dealing wirh Compressor Column"
   ]
  },
  {
   "cell_type": "code",
   "execution_count": 27,
   "metadata": {},
   "outputs": [
    {
     "data": {
      "text/plain": [
       "56"
      ]
     },
     "execution_count": 27,
     "metadata": {},
     "output_type": "execute_result"
    }
   ],
   "source": [
    "data['Compressor Type'].nunique()"
   ]
  },
  {
   "cell_type": "code",
   "execution_count": 28,
   "metadata": {
    "scrolled": true
   },
   "outputs": [
    {
     "data": {
      "text/plain": [
       "array(['Normal Compressor', 'Linear Compressor',\n",
       "       'Reciprocatory Compressor', 'Digital Inverter Compressor',\n",
       "       'Smart Inverter Compressor', 'Reciprocating Compressor',\n",
       "       'Intelligent Inverter Compressor', 'Inverter Compressor',\n",
       "       'Non Inverter Compressor', 'DC Inverter Compressor', 'Rotary',\n",
       "       'Donper', 'Hygiene Plus Inverter Compressor',\n",
       "       'IntelliSense Inverter Compressor', 'Liner Compressor',\n",
       "       'Smart inverter compressor', 'INVERTER Compressor',\n",
       "       'Conventional Compressor', 'Digital Inverter',\n",
       "       'Intellisense Inverter', 'Inverter',\n",
       "       'Intellisense Inverter Compressor', 'Rotary Compressor',\n",
       "       'Digital Compressor', 'Inverter Linear Compressor',\n",
       "       'Equipped with a normal compressor', 'Inverter Linear',\n",
       "       'Reciprocating', 'Digital Inverter Technology Compressor',\n",
       "       'Multi Inverter Technology', 'NORMAL', 'Normal',\n",
       "       'Nextgen 8 Step Inverter Compressor', 'inverter',\n",
       "       'NORMAL COMPRESSOR', 'INVERTER COMPRESSOR',\n",
       "       '6 SPEED INVERTER COMPRESSOR', 'Vario Inverter Compressor',\n",
       "       'Reciprocatory', 'Hygiene+ Inverter Technology',\n",
       "       'Digital compressor', 'Twin Inverter Compressor',\n",
       "       'TRIPLE INVERTER', 'ProSmart Inverter Compressor',\n",
       "       'Fixed Speed Compressor', 'Non-inverter Compressor',\n",
       "       'TWIN Inverter Compressor', 'Linear compressor',\n",
       "       'Compressor, Fixed speed', 'Smart Inverter', 'Non Inverter',\n",
       "       'NORMAL CPMPRESSOR', 'INVERTER',\n",
       "       'Twin Inverter Technology Compressor', nan,\n",
       "       'advanced inverter compressor technology', 'R600A (INVERTER)'],\n",
       "      dtype=object)"
      ]
     },
     "execution_count": 28,
     "metadata": {},
     "output_type": "execute_result"
    }
   ],
   "source": [
    "data['Compressor Type'].unique()"
   ]
  },
  {
   "cell_type": "code",
   "execution_count": 29,
   "metadata": {},
   "outputs": [],
   "source": [
    "# changing string to lower case\n",
    "data['Compressor Type'] = data['Compressor Type'].str.lower() "
   ]
  },
  {
   "cell_type": "code",
   "execution_count": 30,
   "metadata": {
    "scrolled": true
   },
   "outputs": [
    {
     "data": {
      "text/plain": [
       "array(['normal compressor', 'linear compressor',\n",
       "       'reciprocatory compressor', 'digital inverter compressor',\n",
       "       'smart inverter compressor', 'reciprocating compressor',\n",
       "       'intelligent inverter compressor', 'inverter compressor',\n",
       "       'non inverter compressor', 'dc inverter compressor', 'rotary',\n",
       "       'donper', 'hygiene plus inverter compressor',\n",
       "       'intellisense inverter compressor', 'liner compressor',\n",
       "       'conventional compressor', 'digital inverter',\n",
       "       'intellisense inverter', 'inverter', 'rotary compressor',\n",
       "       'digital compressor', 'inverter linear compressor',\n",
       "       'equipped with a normal compressor', 'inverter linear',\n",
       "       'reciprocating', 'digital inverter technology compressor',\n",
       "       'multi inverter technology', 'normal',\n",
       "       'nextgen 8 step inverter compressor',\n",
       "       '6 speed inverter compressor', 'vario inverter compressor',\n",
       "       'reciprocatory', 'hygiene+ inverter technology',\n",
       "       'twin inverter compressor', 'triple inverter',\n",
       "       'prosmart inverter compressor', 'fixed speed compressor',\n",
       "       'non-inverter compressor', 'compressor, fixed speed',\n",
       "       'smart inverter', 'non inverter', 'normal cpmpressor',\n",
       "       'twin inverter technology compressor', nan,\n",
       "       'advanced inverter compressor technology', 'r600a (inverter)'],\n",
       "      dtype=object)"
      ]
     },
     "execution_count": 30,
     "metadata": {},
     "output_type": "execute_result"
    }
   ],
   "source": [
    "data['Compressor Type'].unique()"
   ]
  },
  {
   "cell_type": "code",
   "execution_count": 31,
   "metadata": {},
   "outputs": [
    {
     "data": {
      "text/plain": [
       "45"
      ]
     },
     "execution_count": 31,
     "metadata": {},
     "output_type": "execute_result"
    }
   ],
   "source": [
    "data['Compressor Type'].nunique()"
   ]
  },
  {
   "cell_type": "code",
   "execution_count": 32,
   "metadata": {},
   "outputs": [],
   "source": [
    "def replace_name(a,b):\n",
    "    data['Compressor Type'].replace(a,b,inplace=True)\n",
    "\n",
    "#on normal compressor names\n",
    "replace_name('normal','normal compressor')\n",
    "replace_name('normal cpmpressor','normal compressor')\n",
    "replace_name('non inverter compressor','normal compressor')\n",
    "replace_name('equipped with a normal compressor','normal compressor')\n",
    "replace_name('non-inverter compressor','normal compressor')\n",
    "replace_name('fixed speed compressor','normal compressor')\n",
    "replace_name('non inverter','normal compressor')\n",
    "replace_name('compressor, fixed speed','normal compressor')\n",
    "replace_name('donper','normal compressor')\n",
    "replace_name('reciprocatory compressor','normal compressor')\n",
    "replace_name('reciprocating compressor','normal compressor')\n",
    "replace_name('liner compressor','normal compressor')\n",
    "replace_name('conventional compressor','normal compressor')\n",
    "replace_name('reciprocating','normal compressor')\n",
    "replace_name('linear compressor','normal compressor')\n",
    "replace_name('reciprocatory','normal compressor')\n",
    "\n",
    "\n",
    "# on inverter compressor names\n",
    "replace_name('digital inverter compressor','inverter compressor')\n",
    "replace_name('smart inverter compressor','inverter compressor')\n",
    "replace_name('intelligent inverter compressor','inverter compressor')\n",
    "replace_name('dc inverter compressor','inverter compressor')\n",
    "replace_name('hygiene plus inverter compressor','inverter compressor')\n",
    "replace_name('digital inverter','inverter compressor')\n",
    "replace_name('intellisense inverter compressor','inverter compressor')\n",
    "replace_name('intellisense inverter','inverter compressor')\n",
    "replace_name('digital inverter technology compressor','inverter compressor')\n",
    "replace_name('inverter linear compressor','inverter compressor')\n",
    "replace_name('inverter linear','inverter compressor')\n",
    "replace_name('nextgen 8 step inverter compressor','inverter compressor')\n",
    "replace_name('digital compressor','inverter compressor')\n",
    "replace_name('vario inverter compressor','inverter compressor')\n",
    "replace_name('prosmart inverter compressor','inverter compressor')\n",
    "replace_name('hygiene+ inverter technology','inverter compressor')\n",
    "replace_name('inventer','inverter compressor')\n",
    "replace_name('6 speed inverter compressor','inverter compressor')\n",
    "replace_name('smart inverter','inverter compressor')\n",
    "replace_name('advanced inverter compressor technology','inverter compressor')\n",
    "replace_name('r600a (inverter)','inverter compressor')\n",
    "replace_name('r600a','inverter compressor')\n",
    "replace_name('inverter technology','inverter compressor')\n",
    "replace_name('inverter','inverter compressor')\n",
    "\n",
    "# on multi inverter Technology\n",
    "replace_name('twin inverter compressor','multi inverter technology')\n",
    "replace_name('triple inverter','multi inverter technology')\n",
    "replace_name('twin inverter technology compressor','multi inverter technology')\n",
    "\n",
    "# on rotary inverter technology\n",
    "replace_name('rotary','rotary compressor')"
   ]
  },
  {
   "cell_type": "code",
   "execution_count": 33,
   "metadata": {},
   "outputs": [
    {
     "data": {
      "text/plain": [
       "array(['normal compressor', 'inverter compressor', 'rotary compressor',\n",
       "       'multi inverter technology', nan], dtype=object)"
      ]
     },
     "execution_count": 33,
     "metadata": {},
     "output_type": "execute_result"
    }
   ],
   "source": [
    "data['Compressor Type'].unique()"
   ]
  },
  {
   "cell_type": "code",
   "execution_count": 34,
   "metadata": {},
   "outputs": [
    {
     "data": {
      "text/plain": [
       "inverter compressor          526\n",
       "normal compressor            232\n",
       "rotary compressor             14\n",
       "multi inverter technology      8\n",
       "Name: Compressor Type, dtype: int64"
      ]
     },
     "execution_count": 34,
     "metadata": {},
     "output_type": "execute_result"
    }
   ],
   "source": [
    "data['Compressor Type'].value_counts()"
   ]
  },
  {
   "cell_type": "markdown",
   "metadata": {},
   "source": [
    "### Filling NA in In the box and Compressor type where Not available"
   ]
  },
  {
   "cell_type": "code",
   "execution_count": 35,
   "metadata": {},
   "outputs": [],
   "source": [
    "data[\"Compressor Type\"].fillna('normal compressor', inplace=True)\n",
    "data[\"In The Box\"].fillna('NA', inplace=True)"
   ]
  },
  {
   "cell_type": "code",
   "execution_count": 36,
   "metadata": {},
   "outputs": [
    {
     "data": {
      "text/plain": [
       "Product Name             0\n",
       "Product Rating         187\n",
       "Prices in Rs             0\n",
       "Max Price                0\n",
       "In The Box               0\n",
       "Type                     0\n",
       "Refrigerator Type        0\n",
       "Defrosting Type          0\n",
       "Compressor Type          0\n",
       "Capacity                 0\n",
       "Number of Doors          0\n",
       "Star Rating             62\n",
       "Coolpad                  0\n",
       "Toughened Glass          0\n",
       "Built-in Stabilizer      0\n",
       "Company Name             0\n",
       "Height                   2\n",
       "Width                    2\n",
       "Depth                    2\n",
       "Weight                   2\n",
       "dtype: int64"
      ]
     },
     "execution_count": 36,
     "metadata": {},
     "output_type": "execute_result"
    }
   ],
   "source": [
    "data.isnull().sum()"
   ]
  },
  {
   "cell_type": "code",
   "execution_count": 37,
   "metadata": {},
   "outputs": [
    {
     "name": "stdout",
     "output_type": "stream",
     "text": [
      "<class 'pandas.core.frame.DataFrame'>\n",
      "Int64Index: 781 entries, 0 to 832\n",
      "Data columns (total 20 columns):\n",
      " #   Column               Non-Null Count  Dtype  \n",
      "---  ------               --------------  -----  \n",
      " 0   Product Name         781 non-null    object \n",
      " 1   Product Rating       594 non-null    float64\n",
      " 2   Prices in Rs         781 non-null    float64\n",
      " 3   Max Price            781 non-null    float64\n",
      " 4   In The Box           781 non-null    object \n",
      " 5   Type                 781 non-null    object \n",
      " 6   Refrigerator Type    781 non-null    object \n",
      " 7   Defrosting Type      781 non-null    object \n",
      " 8   Compressor Type      781 non-null    object \n",
      " 9   Capacity             781 non-null    object \n",
      " 10  Number of Doors      781 non-null    int64  \n",
      " 11  Star Rating          719 non-null    object \n",
      " 12  Coolpad              781 non-null    object \n",
      " 13  Toughened Glass      781 non-null    object \n",
      " 14  Built-in Stabilizer  781 non-null    object \n",
      " 15  Company Name         781 non-null    object \n",
      " 16  Height               779 non-null    object \n",
      " 17  Width                779 non-null    object \n",
      " 18  Depth                779 non-null    object \n",
      " 19  Weight               779 non-null    object \n",
      "dtypes: float64(3), int64(1), object(16)\n",
      "memory usage: 128.1+ KB\n"
     ]
    }
   ],
   "source": [
    "data.info()"
   ]
  },
  {
   "cell_type": "markdown",
   "metadata": {},
   "source": [
    "### dealing with Type Column"
   ]
  },
  {
   "cell_type": "code",
   "execution_count": 38,
   "metadata": {},
   "outputs": [
    {
     "data": {
      "text/plain": [
       "9"
      ]
     },
     "execution_count": 38,
     "metadata": {},
     "output_type": "execute_result"
    }
   ],
   "source": [
    "data['Type'].nunique()"
   ]
  },
  {
   "cell_type": "code",
   "execution_count": 39,
   "metadata": {},
   "outputs": [
    {
     "data": {
      "text/plain": [
       "array(['Single Door', 'Double Door', 'Double Door Top Mount',\n",
       "       'Triple Door', 'Side by Side', 'Double Door Bottom Mount',\n",
       "       'French Door Bottom Mount', 'Multi-Door',\n",
       "       'Triple Door Bottom Mount'], dtype=object)"
      ]
     },
     "execution_count": 39,
     "metadata": {},
     "output_type": "execute_result"
    }
   ],
   "source": [
    "data['Type'].unique()"
   ]
  },
  {
   "cell_type": "code",
   "execution_count": 40,
   "metadata": {},
   "outputs": [],
   "source": [
    "def replace_name(a,b):\n",
    "    data['Type'].replace(a,b,inplace=True)\n",
    "    \n",
    "replace_name('Double Door Top Mount','Double Door')  \n",
    "replace_name('Double Door Bottom Mount','Double Door') \n",
    "\n",
    "replace_name('French Door Bottom Mount','Side by Side') \n",
    "\n",
    "replace_name('Triple Door Bottom Mount','Multi-Door')\n",
    "replace_name('Triple Door','Multi-Door')"
   ]
  },
  {
   "cell_type": "code",
   "execution_count": 41,
   "metadata": {},
   "outputs": [],
   "source": [
    "data=data.rename(columns={'Type':'Door Type'})"
   ]
  },
  {
   "cell_type": "code",
   "execution_count": 42,
   "metadata": {},
   "outputs": [
    {
     "data": {
      "text/plain": [
       "Single Door     404\n",
       "Double Door     308\n",
       "Side by Side     46\n",
       "Multi-Door       23\n",
       "Name: Door Type, dtype: int64"
      ]
     },
     "execution_count": 42,
     "metadata": {},
     "output_type": "execute_result"
    }
   ],
   "source": [
    "data['Door Type'].value_counts()"
   ]
  },
  {
   "cell_type": "markdown",
   "metadata": {},
   "source": [
    "### Dealing with Refrigerator Type"
   ]
  },
  {
   "cell_type": "code",
   "execution_count": 43,
   "metadata": {},
   "outputs": [
    {
     "data": {
      "text/plain": [
       "13"
      ]
     },
     "execution_count": 43,
     "metadata": {},
     "output_type": "execute_result"
    }
   ],
   "source": [
    "data['Refrigerator Type'].nunique()"
   ]
  },
  {
   "cell_type": "code",
   "execution_count": 44,
   "metadata": {},
   "outputs": [
    {
     "data": {
      "text/plain": [
       "array(['Top Freezer Refrigerator', 'Top Freezer', 'Top Mount',\n",
       "       'Bottom Freezer', 'Side by Side Refrigerator', 'Bottom Mount',\n",
       "       'Bottom Freezer Refrigerator', 'Drawer Refrigerator',\n",
       "       'Side by Side', 'Compact Refrigerator', 'French Door Refrigerator',\n",
       "       'Multi-Door Refrigerator', 'Cooling Unit'], dtype=object)"
      ]
     },
     "execution_count": 44,
     "metadata": {},
     "output_type": "execute_result"
    }
   ],
   "source": [
    "data['Refrigerator Type'].unique()"
   ]
  },
  {
   "cell_type": "code",
   "execution_count": 45,
   "metadata": {},
   "outputs": [],
   "source": [
    "def replace_name(a,b):\n",
    "    data['Refrigerator Type'].replace(a,b,inplace=True)\n",
    "    \n",
    "replace_name('Top Freezer Refrigerator','Top Freezer')  \n",
    "replace_name('Top Mount','Top Freezer') \n",
    "\n",
    "replace_name('Bottom Mount','Bottom Freezer') \n",
    "replace_name('Bottom Freezer Refrigerator','Bottom Freezer') \n",
    "\n",
    "replace_name('Side by Side Refrigerator','Not Known') \n",
    "replace_name('Drawer Refrigerator','Not Known') \n",
    "replace_name('Side by Side','Not Known') \n",
    "replace_name('Compact Refrigerator','Not Known') \n",
    "replace_name('French Door Refrigerator','Not Known') \n",
    "replace_name('Multi-Door Refrigerator','Not Known')\n",
    "replace_name('Cooling Unit','Not Known') \n",
    "replace_name('Deep Freezer','Not Known')\n"
   ]
  },
  {
   "cell_type": "code",
   "execution_count": 46,
   "metadata": {},
   "outputs": [
    {
     "data": {
      "text/plain": [
       "Top Freezer       670\n",
       "Not Known          65\n",
       "Bottom Freezer     46\n",
       "Name: Refrigerator Type, dtype: int64"
      ]
     },
     "execution_count": 46,
     "metadata": {},
     "output_type": "execute_result"
    }
   ],
   "source": [
    "data['Refrigerator Type'].value_counts()"
   ]
  },
  {
   "cell_type": "markdown",
   "metadata": {},
   "source": [
    "### dealing on Defrosting Type"
   ]
  },
  {
   "cell_type": "code",
   "execution_count": 47,
   "metadata": {},
   "outputs": [
    {
     "data": {
      "text/plain": [
       "Direct Cool               408\n",
       "Frost Free                372\n",
       "Thermoelectric Cooling      1\n",
       "Name: Defrosting Type, dtype: int64"
      ]
     },
     "execution_count": 47,
     "metadata": {},
     "output_type": "execute_result"
    }
   ],
   "source": [
    "data['Defrosting Type'].value_counts()"
   ]
  },
  {
   "cell_type": "code",
   "execution_count": 48,
   "metadata": {},
   "outputs": [],
   "source": [
    "data = data[data['Defrosting Type'] !='Thermoelectric Cooling' ]"
   ]
  },
  {
   "cell_type": "code",
   "execution_count": 49,
   "metadata": {},
   "outputs": [
    {
     "data": {
      "text/plain": [
       "Direct Cool    408\n",
       "Frost Free     372\n",
       "Name: Defrosting Type, dtype: int64"
      ]
     },
     "execution_count": 49,
     "metadata": {},
     "output_type": "execute_result"
    }
   ],
   "source": [
    "data['Defrosting Type'].value_counts()"
   ]
  },
  {
   "cell_type": "markdown",
   "metadata": {},
   "source": [
    "### on star Rating Column"
   ]
  },
  {
   "cell_type": "code",
   "execution_count": 50,
   "metadata": {
    "scrolled": true
   },
   "outputs": [
    {
     "data": {
      "text/plain": [
       "array([2, 4, 3, 1, 5, nan, 'Inverter Technology'], dtype=object)"
      ]
     },
     "execution_count": 50,
     "metadata": {},
     "output_type": "execute_result"
    }
   ],
   "source": [
    "data['Star Rating'].unique()"
   ]
  },
  {
   "cell_type": "code",
   "execution_count": 51,
   "metadata": {},
   "outputs": [],
   "source": [
    "data['Star Rating'].replace('Inverter Technology',None,inplace=True)"
   ]
  },
  {
   "cell_type": "code",
   "execution_count": 52,
   "metadata": {},
   "outputs": [
    {
     "data": {
      "text/plain": [
       "3    321\n",
       "2    239\n",
       "4    116\n",
       "5     34\n",
       "1      8\n",
       "Name: Star Rating, dtype: int64"
      ]
     },
     "execution_count": 52,
     "metadata": {},
     "output_type": "execute_result"
    }
   ],
   "source": [
    "data['Star Rating'].value_counts()"
   ]
  },
  {
   "cell_type": "markdown",
   "metadata": {},
   "source": [
    "### for coolpad column"
   ]
  },
  {
   "cell_type": "code",
   "execution_count": 53,
   "metadata": {},
   "outputs": [
    {
     "data": {
      "text/plain": [
       "No     635\n",
       "Yes    121\n",
       "NO      21\n",
       "no       2\n",
       "YES      1\n",
       "Name: Coolpad, dtype: int64"
      ]
     },
     "execution_count": 53,
     "metadata": {},
     "output_type": "execute_result"
    }
   ],
   "source": [
    "data['Coolpad'].value_counts()"
   ]
  },
  {
   "cell_type": "code",
   "execution_count": 54,
   "metadata": {},
   "outputs": [],
   "source": [
    "data['Coolpad'] = data['Coolpad'].str.lower() "
   ]
  },
  {
   "cell_type": "code",
   "execution_count": 55,
   "metadata": {},
   "outputs": [
    {
     "data": {
      "text/plain": [
       "no     658\n",
       "yes    122\n",
       "Name: Coolpad, dtype: int64"
      ]
     },
     "execution_count": 55,
     "metadata": {},
     "output_type": "execute_result"
    }
   ],
   "source": [
    "data['Coolpad'].value_counts()"
   ]
  },
  {
   "cell_type": "markdown",
   "metadata": {},
   "source": [
    "### on Toughened glass column"
   ]
  },
  {
   "cell_type": "code",
   "execution_count": 56,
   "metadata": {
    "scrolled": true
   },
   "outputs": [
    {
     "data": {
      "text/plain": [
       "Yes    724\n",
       "No      30\n",
       "YES     16\n",
       "NO       8\n",
       "yes      2\n",
       "Name: Toughened Glass, dtype: int64"
      ]
     },
     "execution_count": 56,
     "metadata": {},
     "output_type": "execute_result"
    }
   ],
   "source": [
    "data['Toughened Glass'].value_counts()"
   ]
  },
  {
   "cell_type": "code",
   "execution_count": 57,
   "metadata": {},
   "outputs": [],
   "source": [
    "data['Toughened Glass'] = data['Toughened Glass'].str.lower() "
   ]
  },
  {
   "cell_type": "code",
   "execution_count": 58,
   "metadata": {},
   "outputs": [
    {
     "data": {
      "text/plain": [
       "yes    742\n",
       "no      38\n",
       "Name: Toughened Glass, dtype: int64"
      ]
     },
     "execution_count": 58,
     "metadata": {},
     "output_type": "execute_result"
    }
   ],
   "source": [
    "data['Toughened Glass'].value_counts()"
   ]
  },
  {
   "cell_type": "markdown",
   "metadata": {},
   "source": [
    "### on Built-in Stabilizer"
   ]
  },
  {
   "cell_type": "code",
   "execution_count": 59,
   "metadata": {},
   "outputs": [
    {
     "data": {
      "text/plain": [
       "Yes    720\n",
       "No      60\n",
       "Name: Built-in Stabilizer, dtype: int64"
      ]
     },
     "execution_count": 59,
     "metadata": {},
     "output_type": "execute_result"
    }
   ],
   "source": [
    "data['Built-in Stabilizer'].value_counts()"
   ]
  },
  {
   "cell_type": "code",
   "execution_count": 60,
   "metadata": {
    "scrolled": true
   },
   "outputs": [
    {
     "data": {
      "text/plain": [
       "Product Name             0\n",
       "Product Rating         187\n",
       "Prices in Rs             0\n",
       "Max Price                0\n",
       "In The Box               0\n",
       "Door Type                0\n",
       "Refrigerator Type        0\n",
       "Defrosting Type          0\n",
       "Compressor Type          0\n",
       "Capacity                 0\n",
       "Number of Doors          0\n",
       "Star Rating             62\n",
       "Coolpad                  0\n",
       "Toughened Glass          0\n",
       "Built-in Stabilizer      0\n",
       "Company Name             0\n",
       "Height                   2\n",
       "Width                    2\n",
       "Depth                    2\n",
       "Weight                   2\n",
       "dtype: int64"
      ]
     },
     "execution_count": 60,
     "metadata": {},
     "output_type": "execute_result"
    }
   ],
   "source": [
    "data.isnull().sum()"
   ]
  },
  {
   "cell_type": "markdown",
   "metadata": {},
   "source": [
    "### changing numeric column datatype where it is object"
   ]
  },
  {
   "cell_type": "code",
   "execution_count": 61,
   "metadata": {},
   "outputs": [],
   "source": [
    "data['Star Rating']=pd.to_numeric(data['Star Rating'])\n",
    "data['Product Rating']=pd.to_numeric(data['Product Rating'])\n",
    "data['Capacity']=pd.to_numeric(data['Capacity'])"
   ]
  },
  {
   "cell_type": "code",
   "execution_count": 62,
   "metadata": {},
   "outputs": [
    {
     "name": "stdout",
     "output_type": "stream",
     "text": [
      "<class 'pandas.core.frame.DataFrame'>\n",
      "Int64Index: 780 entries, 0 to 832\n",
      "Data columns (total 20 columns):\n",
      " #   Column               Non-Null Count  Dtype  \n",
      "---  ------               --------------  -----  \n",
      " 0   Product Name         780 non-null    object \n",
      " 1   Product Rating       593 non-null    float64\n",
      " 2   Prices in Rs         780 non-null    float64\n",
      " 3   Max Price            780 non-null    float64\n",
      " 4   In The Box           780 non-null    object \n",
      " 5   Door Type            780 non-null    object \n",
      " 6   Refrigerator Type    780 non-null    object \n",
      " 7   Defrosting Type      780 non-null    object \n",
      " 8   Compressor Type      780 non-null    object \n",
      " 9   Capacity             780 non-null    int64  \n",
      " 10  Number of Doors      780 non-null    int64  \n",
      " 11  Star Rating          718 non-null    float64\n",
      " 12  Coolpad              780 non-null    object \n",
      " 13  Toughened Glass      780 non-null    object \n",
      " 14  Built-in Stabilizer  780 non-null    object \n",
      " 15  Company Name         780 non-null    object \n",
      " 16  Height               778 non-null    object \n",
      " 17  Width                778 non-null    object \n",
      " 18  Depth                778 non-null    object \n",
      " 19  Weight               778 non-null    object \n",
      "dtypes: float64(4), int64(2), object(14)\n",
      "memory usage: 128.0+ KB\n"
     ]
    }
   ],
   "source": [
    "data.info()"
   ]
  },
  {
   "cell_type": "markdown",
   "metadata": {},
   "source": [
    "### For filling null values in Product rating and star Rating "
   ]
  },
  {
   "cell_type": "code",
   "execution_count": 63,
   "metadata": {
    "scrolled": true
   },
   "outputs": [
    {
     "data": {
      "text/plain": [
       "Text(0.5, 0, 'Company Names')"
      ]
     },
     "execution_count": 63,
     "metadata": {},
     "output_type": "execute_result"
    },
    {
     "data": {
      "image/png": "[encoded data removed]",
      "text/plain": [
       "<Figure size 1440x360 with 1 Axes>"
      ]
     },
     "metadata": {
      "needs_background": "light"
     },
     "output_type": "display_data"
    }
   ],
   "source": [
    "plt.figure(figsize=(20,5))\n",
    "graph=sns.barplot(x=\"Company Name\", \n",
    "    y=\"Star Rating\",\n",
    "    data=data,\n",
    "    ci=None )\n",
    "\n",
    "for p in graph.patches:\n",
    "        graph.annotate('{:.0f}'.format(p.get_height()), (p.get_x()+0.3, p.get_height()),\n",
    "                    ha='center', va='bottom',\n",
    "                    color= 'black')\n",
    "plt.ylabel(\"Star Rating\", size=14)\n",
    "plt.xlabel(\"Company Names\", size=14)"
   ]
  },
  {
   "cell_type": "code",
   "execution_count": 64,
   "metadata": {},
   "outputs": [
    {
     "data": {
      "text/plain": [
       "Text(0.5, 0, 'Company Names')"
      ]
     },
     "execution_count": 64,
     "metadata": {},
     "output_type": "execute_result"
    },
    {
     "data": {
      "image/png": "[encoded data removed]",
      "text/plain": [
       "<Figure size 1440x360 with 1 Axes>"
      ]
     },
     "metadata": {
      "needs_background": "light"
     },
     "output_type": "display_data"
    }
   ],
   "source": [
    "plt.figure(figsize=(20,5))\n",
    "graph=sns.barplot(x=\"Company Name\", \n",
    "    y=\"Product Rating\",\n",
    "    data=data,\n",
    "    ci=None )\n",
    "\n",
    "for p in graph.patches:\n",
    "        graph.annotate('{:.0f}'.format(p.get_height()), (p.get_x()+0.3, p.get_height()),\n",
    "                    ha='center', va='bottom',\n",
    "                    color= 'black')\n",
    "plt.ylabel(\"Product Rating\", size=14)\n",
    "plt.xlabel(\"Company Names\", size=14)"
   ]
  },
  {
   "cell_type": "code",
   "execution_count": 65,
   "metadata": {},
   "outputs": [],
   "source": [
    "data['Star Rating'].fillna(data.groupby([\"Company Name\"])['Star Rating'].transform('mean'),inplace=True)"
   ]
  },
  {
   "cell_type": "code",
   "execution_count": 66,
   "metadata": {},
   "outputs": [],
   "source": [
    "data['Star Rating'].fillna(data['Star Rating'].mean(),inplace=True)"
   ]
  },
  {
   "cell_type": "code",
   "execution_count": 67,
   "metadata": {},
   "outputs": [
    {
     "data": {
      "text/plain": [
       "Product Name             0\n",
       "Product Rating         187\n",
       "Prices in Rs             0\n",
       "Max Price                0\n",
       "In The Box               0\n",
       "Door Type                0\n",
       "Refrigerator Type        0\n",
       "Defrosting Type          0\n",
       "Compressor Type          0\n",
       "Capacity                 0\n",
       "Number of Doors          0\n",
       "Star Rating              0\n",
       "Coolpad                  0\n",
       "Toughened Glass          0\n",
       "Built-in Stabilizer      0\n",
       "Company Name             0\n",
       "Height                   2\n",
       "Width                    2\n",
       "Depth                    2\n",
       "Weight                   2\n",
       "dtype: int64"
      ]
     },
     "execution_count": 67,
     "metadata": {},
     "output_type": "execute_result"
    }
   ],
   "source": [
    "data.isnull().sum()"
   ]
  },
  {
   "cell_type": "code",
   "execution_count": 68,
   "metadata": {},
   "outputs": [],
   "source": [
    "data['Star Rating']=data['Star Rating'].round()"
   ]
  },
  {
   "cell_type": "code",
   "execution_count": 69,
   "metadata": {},
   "outputs": [],
   "source": [
    "data['Product Rating'].fillna(data.groupby([\"Company Name\"])['Product Rating'].transform('mean'),inplace=True)"
   ]
  },
  {
   "cell_type": "code",
   "execution_count": 70,
   "metadata": {},
   "outputs": [],
   "source": [
    "data['Product Rating'].fillna(data['Product Rating'].mean(),inplace=True)"
   ]
  },
  {
   "cell_type": "code",
   "execution_count": 71,
   "metadata": {},
   "outputs": [
    {
     "data": {
      "text/plain": [
       "Product Name           0\n",
       "Product Rating         0\n",
       "Prices in Rs           0\n",
       "Max Price              0\n",
       "In The Box             0\n",
       "Door Type              0\n",
       "Refrigerator Type      0\n",
       "Defrosting Type        0\n",
       "Compressor Type        0\n",
       "Capacity               0\n",
       "Number of Doors        0\n",
       "Star Rating            0\n",
       "Coolpad                0\n",
       "Toughened Glass        0\n",
       "Built-in Stabilizer    0\n",
       "Company Name           0\n",
       "Height                 2\n",
       "Width                  2\n",
       "Depth                  2\n",
       "Weight                 2\n",
       "dtype: int64"
      ]
     },
     "execution_count": 71,
     "metadata": {},
     "output_type": "execute_result"
    }
   ],
   "source": [
    "data.isnull().sum()"
   ]
  },
  {
   "cell_type": "code",
   "execution_count": 72,
   "metadata": {},
   "outputs": [],
   "source": [
    "data['Product Rating']=data['Product Rating'].round(decimals=1)"
   ]
  },
  {
   "cell_type": "code",
   "execution_count": 73,
   "metadata": {
    "scrolled": true
   },
   "outputs": [
    {
     "data": {
      "text/html": [
       "<div>\n",
       "<style scoped>\n",
       "    .dataframe tbody tr th:only-of-type {\n",
       "        vertical-align: middle;\n",
       "    }\n",
       "\n",
       "    .dataframe tbody tr th {\n",
       "        vertical-align: top;\n",
       "    }\n",
       "\n",
       "    .dataframe thead th {\n",
       "        text-align: right;\n",
       "    }\n",
       "</style>\n",
       "<table border=\"1\" class=\"dataframe\">\n",
       "  <thead>\n",
       "    <tr style=\"text-align: right;\">\n",
       "      <th></th>\n",
       "      <th>Product Name</th>\n",
       "      <th>Product Rating</th>\n",
       "      <th>Prices in Rs</th>\n",
       "      <th>Max Price</th>\n",
       "      <th>In The Box</th>\n",
       "      <th>Door Type</th>\n",
       "      <th>Refrigerator Type</th>\n",
       "      <th>Defrosting Type</th>\n",
       "      <th>Compressor Type</th>\n",
       "      <th>Capacity</th>\n",
       "      <th>Number of Doors</th>\n",
       "      <th>Star Rating</th>\n",
       "      <th>Coolpad</th>\n",
       "      <th>Toughened Glass</th>\n",
       "      <th>Built-in Stabilizer</th>\n",
       "      <th>Company Name</th>\n",
       "      <th>Height</th>\n",
       "      <th>Width</th>\n",
       "      <th>Depth</th>\n",
       "      <th>Weight</th>\n",
       "    </tr>\n",
       "  </thead>\n",
       "  <tbody>\n",
       "    <tr>\n",
       "      <th>0</th>\n",
       "      <td>Whirlpool 190 L Direct Cool Single Door 2 Star...</td>\n",
       "      <td>4.3</td>\n",
       "      <td>12740.0</td>\n",
       "      <td>14900.0</td>\n",
       "      <td>1 Refrigerator Unit, Warranty Card, User Manual</td>\n",
       "      <td>Single Door</td>\n",
       "      <td>Top Freezer</td>\n",
       "      <td>Direct Cool</td>\n",
       "      <td>normal compressor</td>\n",
       "      <td>190</td>\n",
       "      <td>1</td>\n",
       "      <td>2.0</td>\n",
       "      <td>no</td>\n",
       "      <td>yes</td>\n",
       "      <td>Yes</td>\n",
       "      <td>Whirlpool</td>\n",
       "      <td>1191 mm</td>\n",
       "      <td>536 mm</td>\n",
       "      <td>604 mm</td>\n",
       "      <td>32.4 kg</td>\n",
       "    </tr>\n",
       "    <tr>\n",
       "      <th>1</th>\n",
       "      <td>Whirlpool 190 L Direct Cool Single Door 2 Star...</td>\n",
       "      <td>4.3</td>\n",
       "      <td>11990.0</td>\n",
       "      <td>14400.0</td>\n",
       "      <td>1 Refrigerator, User Manual, Warranty Card</td>\n",
       "      <td>Single Door</td>\n",
       "      <td>Top Freezer</td>\n",
       "      <td>Direct Cool</td>\n",
       "      <td>normal compressor</td>\n",
       "      <td>190</td>\n",
       "      <td>1</td>\n",
       "      <td>2.0</td>\n",
       "      <td>no</td>\n",
       "      <td>no</td>\n",
       "      <td>Yes</td>\n",
       "      <td>Whirlpool</td>\n",
       "      <td>1191 mm</td>\n",
       "      <td>536 mm</td>\n",
       "      <td>604 mm</td>\n",
       "      <td>32.4 kg</td>\n",
       "    </tr>\n",
       "    <tr>\n",
       "      <th>3</th>\n",
       "      <td>Whirlpool 190 L Direct Cool Single Door 2 Star...</td>\n",
       "      <td>4.3</td>\n",
       "      <td>13740.0</td>\n",
       "      <td>16000.0</td>\n",
       "      <td>1 Refrigerator Unit, Warranty Card, User Manual</td>\n",
       "      <td>Single Door</td>\n",
       "      <td>Top Freezer</td>\n",
       "      <td>Direct Cool</td>\n",
       "      <td>normal compressor</td>\n",
       "      <td>190</td>\n",
       "      <td>1</td>\n",
       "      <td>2.0</td>\n",
       "      <td>no</td>\n",
       "      <td>yes</td>\n",
       "      <td>Yes</td>\n",
       "      <td>Whirlpool</td>\n",
       "      <td>1191 mm</td>\n",
       "      <td>536 mm</td>\n",
       "      <td>604 mm</td>\n",
       "      <td>32.4 kg</td>\n",
       "    </tr>\n",
       "    <tr>\n",
       "      <th>8</th>\n",
       "      <td>Whirlpool 190 L Direct Cool Single Door 2 Star...</td>\n",
       "      <td>4.3</td>\n",
       "      <td>13699.0</td>\n",
       "      <td>16150.0</td>\n",
       "      <td>1 Refrigerator\\nUser Manual and Warranty Card</td>\n",
       "      <td>Single Door</td>\n",
       "      <td>Top Freezer</td>\n",
       "      <td>Direct Cool</td>\n",
       "      <td>normal compressor</td>\n",
       "      <td>190</td>\n",
       "      <td>1</td>\n",
       "      <td>2.0</td>\n",
       "      <td>yes</td>\n",
       "      <td>yes</td>\n",
       "      <td>Yes</td>\n",
       "      <td>Whirlpool</td>\n",
       "      <td>1191 mm</td>\n",
       "      <td>536 mm</td>\n",
       "      <td>604 mm</td>\n",
       "      <td>32.4 kg</td>\n",
       "    </tr>\n",
       "    <tr>\n",
       "      <th>10</th>\n",
       "      <td>Whirlpool 190 L Direct Cool Single Door 2 Star...</td>\n",
       "      <td>4.3</td>\n",
       "      <td>13399.0</td>\n",
       "      <td>14950.0</td>\n",
       "      <td>1 Refrigerator, User Manual, Warranty Card</td>\n",
       "      <td>Single Door</td>\n",
       "      <td>Top Freezer</td>\n",
       "      <td>Direct Cool</td>\n",
       "      <td>normal compressor</td>\n",
       "      <td>190</td>\n",
       "      <td>1</td>\n",
       "      <td>2.0</td>\n",
       "      <td>no</td>\n",
       "      <td>yes</td>\n",
       "      <td>Yes</td>\n",
       "      <td>Whirlpool</td>\n",
       "      <td>1191 mm</td>\n",
       "      <td>536 mm</td>\n",
       "      <td>604 mm</td>\n",
       "      <td>32.4 kg</td>\n",
       "    </tr>\n",
       "  </tbody>\n",
       "</table>\n",
       "</div>"
      ],
      "text/plain": [
       "                                         Product Name  Product Rating  \\\n",
       "0   Whirlpool 190 L Direct Cool Single Door 2 Star...             4.3   \n",
       "1   Whirlpool 190 L Direct Cool Single Door 2 Star...             4.3   \n",
       "3   Whirlpool 190 L Direct Cool Single Door 2 Star...             4.3   \n",
       "8   Whirlpool 190 L Direct Cool Single Door 2 Star...             4.3   \n",
       "10  Whirlpool 190 L Direct Cool Single Door 2 Star...             4.3   \n",
       "\n",
       "    Prices in Rs  Max Price                                       In The Box  \\\n",
       "0        12740.0    14900.0  1 Refrigerator Unit, Warranty Card, User Manual   \n",
       "1        11990.0    14400.0       1 Refrigerator, User Manual, Warranty Card   \n",
       "3        13740.0    16000.0  1 Refrigerator Unit, Warranty Card, User Manual   \n",
       "8        13699.0    16150.0    1 Refrigerator\\nUser Manual and Warranty Card   \n",
       "10       13399.0    14950.0       1 Refrigerator, User Manual, Warranty Card   \n",
       "\n",
       "      Door Type Refrigerator Type Defrosting Type    Compressor Type  \\\n",
       "0   Single Door       Top Freezer     Direct Cool  normal compressor   \n",
       "1   Single Door       Top Freezer     Direct Cool  normal compressor   \n",
       "3   Single Door       Top Freezer     Direct Cool  normal compressor   \n",
       "8   Single Door       Top Freezer     Direct Cool  normal compressor   \n",
       "10  Single Door       Top Freezer     Direct Cool  normal compressor   \n",
       "\n",
       "    Capacity  Number of Doors  Star Rating Coolpad Toughened Glass  \\\n",
       "0        190                1          2.0      no             yes   \n",
       "1        190                1          2.0      no              no   \n",
       "3        190                1          2.0      no             yes   \n",
       "8        190                1          2.0     yes             yes   \n",
       "10       190                1          2.0      no             yes   \n",
       "\n",
       "   Built-in Stabilizer Company Name   Height   Width   Depth   Weight  \n",
       "0                  Yes    Whirlpool  1191 mm  536 mm  604 mm  32.4 kg  \n",
       "1                  Yes    Whirlpool  1191 mm  536 mm  604 mm  32.4 kg  \n",
       "3                  Yes    Whirlpool  1191 mm  536 mm  604 mm  32.4 kg  \n",
       "8                  Yes    Whirlpool  1191 mm  536 mm  604 mm  32.4 kg  \n",
       "10                 Yes    Whirlpool  1191 mm  536 mm  604 mm  32.4 kg  "
      ]
     },
     "execution_count": 73,
     "metadata": {},
     "output_type": "execute_result"
    }
   ],
   "source": [
    "data.head()"
   ]
  },
  {
   "cell_type": "code",
   "execution_count": 74,
   "metadata": {},
   "outputs": [
    {
     "data": {
      "text/html": [
       "<div>\n",
       "<style scoped>\n",
       "    .dataframe tbody tr th:only-of-type {\n",
       "        vertical-align: middle;\n",
       "    }\n",
       "\n",
       "    .dataframe tbody tr th {\n",
       "        vertical-align: top;\n",
       "    }\n",
       "\n",
       "    .dataframe thead th {\n",
       "        text-align: right;\n",
       "    }\n",
       "</style>\n",
       "<table border=\"1\" class=\"dataframe\">\n",
       "  <thead>\n",
       "    <tr style=\"text-align: right;\">\n",
       "      <th></th>\n",
       "      <th>Product Name</th>\n",
       "      <th>Product Rating</th>\n",
       "      <th>Prices in Rs</th>\n",
       "      <th>Max Price</th>\n",
       "      <th>In The Box</th>\n",
       "      <th>Door Type</th>\n",
       "      <th>Refrigerator Type</th>\n",
       "      <th>Defrosting Type</th>\n",
       "      <th>Compressor Type</th>\n",
       "      <th>Capacity</th>\n",
       "      <th>Number of Doors</th>\n",
       "      <th>Star Rating</th>\n",
       "      <th>Coolpad</th>\n",
       "      <th>Toughened Glass</th>\n",
       "      <th>Built-in Stabilizer</th>\n",
       "      <th>Company Name</th>\n",
       "      <th>Height</th>\n",
       "      <th>Width</th>\n",
       "      <th>Depth</th>\n",
       "      <th>Weight</th>\n",
       "    </tr>\n",
       "  </thead>\n",
       "  <tbody>\n",
       "    <tr>\n",
       "      <th>97</th>\n",
       "      <td>Whirlpool 190 L Direct Cool Single Door 3 Star...</td>\n",
       "      <td>4.3</td>\n",
       "      <td>15599.0</td>\n",
       "      <td>16000.0</td>\n",
       "      <td>1 Refrigerator UnitManualWarranty Card</td>\n",
       "      <td>Single Door</td>\n",
       "      <td>Top Freezer</td>\n",
       "      <td>Direct Cool</td>\n",
       "      <td>rotary compressor</td>\n",
       "      <td>190</td>\n",
       "      <td>1</td>\n",
       "      <td>3.0</td>\n",
       "      <td>no</td>\n",
       "      <td>yes</td>\n",
       "      <td>Yes</td>\n",
       "      <td>Whirlpool</td>\n",
       "      <td>119.5 cm</td>\n",
       "      <td>53.5 cm</td>\n",
       "      <td>61.5 cm</td>\n",
       "      <td>32.4 kg</td>\n",
       "    </tr>\n",
       "    <tr>\n",
       "      <th>696</th>\n",
       "      <td>BOSCH 636 L Frost Free Side by Side Refrigerator</td>\n",
       "      <td>2.0</td>\n",
       "      <td>202290.0</td>\n",
       "      <td>238000.0</td>\n",
       "      <td>1 RefrigeratorUser Manual and Warranty Card</td>\n",
       "      <td>Side by Side</td>\n",
       "      <td>Not Known</td>\n",
       "      <td>Frost Free</td>\n",
       "      <td>normal compressor</td>\n",
       "      <td>636</td>\n",
       "      <td>2</td>\n",
       "      <td>3.0</td>\n",
       "      <td>yes</td>\n",
       "      <td>yes</td>\n",
       "      <td>No</td>\n",
       "      <td>BOSCH</td>\n",
       "      <td>175.6 cm</td>\n",
       "      <td>91.2 cm</td>\n",
       "      <td>73.2 cm</td>\n",
       "      <td>208 kg</td>\n",
       "    </tr>\n",
       "    <tr>\n",
       "      <th>116</th>\n",
       "      <td>Whirlpool 190 L Direct Cool Single Door 4 Star...</td>\n",
       "      <td>4.3</td>\n",
       "      <td>15490.0</td>\n",
       "      <td>18600.0</td>\n",
       "      <td>1 Refrigerator Unit, Customer Manual, Warranty...</td>\n",
       "      <td>Single Door</td>\n",
       "      <td>Top Freezer</td>\n",
       "      <td>Direct Cool</td>\n",
       "      <td>inverter compressor</td>\n",
       "      <td>190</td>\n",
       "      <td>1</td>\n",
       "      <td>4.0</td>\n",
       "      <td>no</td>\n",
       "      <td>yes</td>\n",
       "      <td>Yes</td>\n",
       "      <td>Whirlpool</td>\n",
       "      <td>1300 mm</td>\n",
       "      <td>535 mm</td>\n",
       "      <td>615 mm</td>\n",
       "      <td>36.4 kg</td>\n",
       "    </tr>\n",
       "    <tr>\n",
       "      <th>249</th>\n",
       "      <td>Whirlpool 245 L Frost Free Double Door 2 Star ...</td>\n",
       "      <td>4.5</td>\n",
       "      <td>22610.0</td>\n",
       "      <td>27150.0</td>\n",
       "      <td>1 Refrigerator, User Manual, Warranty Card</td>\n",
       "      <td>Double Door</td>\n",
       "      <td>Top Freezer</td>\n",
       "      <td>Frost Free</td>\n",
       "      <td>inverter compressor</td>\n",
       "      <td>245</td>\n",
       "      <td>2</td>\n",
       "      <td>2.0</td>\n",
       "      <td>no</td>\n",
       "      <td>yes</td>\n",
       "      <td>Yes</td>\n",
       "      <td>Whirlpool</td>\n",
       "      <td>1590 mm</td>\n",
       "      <td>570 mm</td>\n",
       "      <td>670 mm</td>\n",
       "      <td>49 kg</td>\n",
       "    </tr>\n",
       "    <tr>\n",
       "      <th>687</th>\n",
       "      <td>SAMSUNG 212 L Direct Cool Single Door 3 Star R...</td>\n",
       "      <td>4.3</td>\n",
       "      <td>15590.0</td>\n",
       "      <td>19990.0</td>\n",
       "      <td>1 Unit Refrigerator, User Manual with Warranty...</td>\n",
       "      <td>Single Door</td>\n",
       "      <td>Top Freezer</td>\n",
       "      <td>Direct Cool</td>\n",
       "      <td>inverter compressor</td>\n",
       "      <td>212</td>\n",
       "      <td>1</td>\n",
       "      <td>3.0</td>\n",
       "      <td>no</td>\n",
       "      <td>yes</td>\n",
       "      <td>Yes</td>\n",
       "      <td>SAMSUNG</td>\n",
       "      <td>131.5 cm</td>\n",
       "      <td>53.6 cm</td>\n",
       "      <td>66.5 cm</td>\n",
       "      <td>32 kg</td>\n",
       "    </tr>\n",
       "    <tr>\n",
       "      <th>291</th>\n",
       "      <td>SAMSUNG 225 L Direct Cool Single Door 3 Star R...</td>\n",
       "      <td>4.3</td>\n",
       "      <td>19989.0</td>\n",
       "      <td>22990.0</td>\n",
       "      <td>1 Refrigerator Unit, User Manual, Warranty Card</td>\n",
       "      <td>Single Door</td>\n",
       "      <td>Top Freezer</td>\n",
       "      <td>Direct Cool</td>\n",
       "      <td>inverter compressor</td>\n",
       "      <td>225</td>\n",
       "      <td>1</td>\n",
       "      <td>3.0</td>\n",
       "      <td>no</td>\n",
       "      <td>yes</td>\n",
       "      <td>Yes</td>\n",
       "      <td>SAMSUNG</td>\n",
       "      <td>1336 mm</td>\n",
       "      <td>568 mm</td>\n",
       "      <td>664 mm</td>\n",
       "      <td>37.2 kg</td>\n",
       "    </tr>\n",
       "    <tr>\n",
       "      <th>62</th>\n",
       "      <td>SAMSUNG 192 L Direct Cool Single Door 3 Star R...</td>\n",
       "      <td>4.3</td>\n",
       "      <td>17714.0</td>\n",
       "      <td>19990.0</td>\n",
       "      <td>1 Refrigerator Unit, User Manual, Warranty Card</td>\n",
       "      <td>Single Door</td>\n",
       "      <td>Top Freezer</td>\n",
       "      <td>Direct Cool</td>\n",
       "      <td>inverter compressor</td>\n",
       "      <td>192</td>\n",
       "      <td>1</td>\n",
       "      <td>3.0</td>\n",
       "      <td>no</td>\n",
       "      <td>yes</td>\n",
       "      <td>Yes</td>\n",
       "      <td>SAMSUNG</td>\n",
       "      <td>118 cm</td>\n",
       "      <td>53.2 cm</td>\n",
       "      <td>64 cm</td>\n",
       "      <td>30 kg</td>\n",
       "    </tr>\n",
       "    <tr>\n",
       "      <th>361</th>\n",
       "      <td>SAMSUNG 192 L Direct Cool Single Door 2 Star R...</td>\n",
       "      <td>4.5</td>\n",
       "      <td>15790.0</td>\n",
       "      <td>16300.0</td>\n",
       "      <td>1 Unit Refrigerator, User Manual, Warranty Card</td>\n",
       "      <td>Single Door</td>\n",
       "      <td>Top Freezer</td>\n",
       "      <td>Direct Cool</td>\n",
       "      <td>normal compressor</td>\n",
       "      <td>192</td>\n",
       "      <td>1</td>\n",
       "      <td>2.0</td>\n",
       "      <td>no</td>\n",
       "      <td>yes</td>\n",
       "      <td>Yes</td>\n",
       "      <td>SAMSUNG</td>\n",
       "      <td>1220 mm</td>\n",
       "      <td>536 mm</td>\n",
       "      <td>665 mm</td>\n",
       "      <td>30 kg</td>\n",
       "    </tr>\n",
       "    <tr>\n",
       "      <th>544</th>\n",
       "      <td>Godrej 190 L Direct Cool Single Door 4 Star Re...</td>\n",
       "      <td>4.0</td>\n",
       "      <td>19129.0</td>\n",
       "      <td>21600.0</td>\n",
       "      <td>1 Refrigerator, User Manual and Warranty Card</td>\n",
       "      <td>Single Door</td>\n",
       "      <td>Top Freezer</td>\n",
       "      <td>Direct Cool</td>\n",
       "      <td>inverter compressor</td>\n",
       "      <td>190</td>\n",
       "      <td>1</td>\n",
       "      <td>4.0</td>\n",
       "      <td>no</td>\n",
       "      <td>yes</td>\n",
       "      <td>Yes</td>\n",
       "      <td>Godrej</td>\n",
       "      <td>1250 mm</td>\n",
       "      <td>597 mm</td>\n",
       "      <td>667 mm</td>\n",
       "      <td>36 kg</td>\n",
       "    </tr>\n",
       "    <tr>\n",
       "      <th>258</th>\n",
       "      <td>Haier 192 L Direct Cool Single Door 2 Star Ref...</td>\n",
       "      <td>4.3</td>\n",
       "      <td>13990.0</td>\n",
       "      <td>19100.0</td>\n",
       "      <td>1 Refrigerator, User Manual, Ice Tray, Key, Wa...</td>\n",
       "      <td>Single Door</td>\n",
       "      <td>Top Freezer</td>\n",
       "      <td>Direct Cool</td>\n",
       "      <td>normal compressor</td>\n",
       "      <td>192</td>\n",
       "      <td>1</td>\n",
       "      <td>2.0</td>\n",
       "      <td>no</td>\n",
       "      <td>yes</td>\n",
       "      <td>Yes</td>\n",
       "      <td>Haier</td>\n",
       "      <td>126.7 cm</td>\n",
       "      <td>53.3 mm</td>\n",
       "      <td>61.1 cm</td>\n",
       "      <td>37 kg</td>\n",
       "    </tr>\n",
       "  </tbody>\n",
       "</table>\n",
       "</div>"
      ],
      "text/plain": [
       "                                          Product Name  Product Rating  \\\n",
       "97   Whirlpool 190 L Direct Cool Single Door 3 Star...             4.3   \n",
       "696   BOSCH 636 L Frost Free Side by Side Refrigerator             2.0   \n",
       "116  Whirlpool 190 L Direct Cool Single Door 4 Star...             4.3   \n",
       "249  Whirlpool 245 L Frost Free Double Door 2 Star ...             4.5   \n",
       "687  SAMSUNG 212 L Direct Cool Single Door 3 Star R...             4.3   \n",
       "291  SAMSUNG 225 L Direct Cool Single Door 3 Star R...             4.3   \n",
       "62   SAMSUNG 192 L Direct Cool Single Door 3 Star R...             4.3   \n",
       "361  SAMSUNG 192 L Direct Cool Single Door 2 Star R...             4.5   \n",
       "544  Godrej 190 L Direct Cool Single Door 4 Star Re...             4.0   \n",
       "258  Haier 192 L Direct Cool Single Door 2 Star Ref...             4.3   \n",
       "\n",
       "     Prices in Rs  Max Price  \\\n",
       "97        15599.0    16000.0   \n",
       "696      202290.0   238000.0   \n",
       "116       15490.0    18600.0   \n",
       "249       22610.0    27150.0   \n",
       "687       15590.0    19990.0   \n",
       "291       19989.0    22990.0   \n",
       "62        17714.0    19990.0   \n",
       "361       15790.0    16300.0   \n",
       "544       19129.0    21600.0   \n",
       "258       13990.0    19100.0   \n",
       "\n",
       "                                            In The Box     Door Type  \\\n",
       "97              1 Refrigerator UnitManualWarranty Card   Single Door   \n",
       "696        1 RefrigeratorUser Manual and Warranty Card  Side by Side   \n",
       "116  1 Refrigerator Unit, Customer Manual, Warranty...   Single Door   \n",
       "249         1 Refrigerator, User Manual, Warranty Card   Double Door   \n",
       "687  1 Unit Refrigerator, User Manual with Warranty...   Single Door   \n",
       "291    1 Refrigerator Unit, User Manual, Warranty Card   Single Door   \n",
       "62     1 Refrigerator Unit, User Manual, Warranty Card   Single Door   \n",
       "361    1 Unit Refrigerator, User Manual, Warranty Card   Single Door   \n",
       "544      1 Refrigerator, User Manual and Warranty Card   Single Door   \n",
       "258  1 Refrigerator, User Manual, Ice Tray, Key, Wa...   Single Door   \n",
       "\n",
       "    Refrigerator Type Defrosting Type      Compressor Type  Capacity  \\\n",
       "97        Top Freezer     Direct Cool    rotary compressor       190   \n",
       "696         Not Known      Frost Free    normal compressor       636   \n",
       "116       Top Freezer     Direct Cool  inverter compressor       190   \n",
       "249       Top Freezer      Frost Free  inverter compressor       245   \n",
       "687       Top Freezer     Direct Cool  inverter compressor       212   \n",
       "291       Top Freezer     Direct Cool  inverter compressor       225   \n",
       "62        Top Freezer     Direct Cool  inverter compressor       192   \n",
       "361       Top Freezer     Direct Cool    normal compressor       192   \n",
       "544       Top Freezer     Direct Cool  inverter compressor       190   \n",
       "258       Top Freezer     Direct Cool    normal compressor       192   \n",
       "\n",
       "     Number of Doors  Star Rating Coolpad Toughened Glass Built-in Stabilizer  \\\n",
       "97                 1          3.0      no             yes                 Yes   \n",
       "696                2          3.0     yes             yes                  No   \n",
       "116                1          4.0      no             yes                 Yes   \n",
       "249                2          2.0      no             yes                 Yes   \n",
       "687                1          3.0      no             yes                 Yes   \n",
       "291                1          3.0      no             yes                 Yes   \n",
       "62                 1          3.0      no             yes                 Yes   \n",
       "361                1          2.0      no             yes                 Yes   \n",
       "544                1          4.0      no             yes                 Yes   \n",
       "258                1          2.0      no             yes                 Yes   \n",
       "\n",
       "    Company Name    Height    Width    Depth   Weight  \n",
       "97     Whirlpool  119.5 cm  53.5 cm  61.5 cm  32.4 kg  \n",
       "696        BOSCH  175.6 cm  91.2 cm  73.2 cm   208 kg  \n",
       "116    Whirlpool   1300 mm   535 mm   615 mm  36.4 kg  \n",
       "249    Whirlpool   1590 mm   570 mm   670 mm    49 kg  \n",
       "687      SAMSUNG  131.5 cm  53.6 cm  66.5 cm    32 kg  \n",
       "291      SAMSUNG   1336 mm   568 mm   664 mm  37.2 kg  \n",
       "62       SAMSUNG    118 cm  53.2 cm    64 cm    30 kg  \n",
       "361      SAMSUNG   1220 mm   536 mm   665 mm    30 kg  \n",
       "544       Godrej   1250 mm   597 mm   667 mm    36 kg  \n",
       "258        Haier  126.7 cm  53.3 mm  61.1 cm    37 kg  "
      ]
     },
     "execution_count": 74,
     "metadata": {},
     "output_type": "execute_result"
    }
   ],
   "source": [
    "data.sample(10)"
   ]
  },
  {
   "cell_type": "code",
   "execution_count": 75,
   "metadata": {},
   "outputs": [
    {
     "data": {
      "text/html": [
       "<div>\n",
       "<style scoped>\n",
       "    .dataframe tbody tr th:only-of-type {\n",
       "        vertical-align: middle;\n",
       "    }\n",
       "\n",
       "    .dataframe tbody tr th {\n",
       "        vertical-align: top;\n",
       "    }\n",
       "\n",
       "    .dataframe thead th {\n",
       "        text-align: right;\n",
       "    }\n",
       "</style>\n",
       "<table border=\"1\" class=\"dataframe\">\n",
       "  <thead>\n",
       "    <tr style=\"text-align: right;\">\n",
       "      <th></th>\n",
       "      <th>Product Name</th>\n",
       "      <th>Product Rating</th>\n",
       "      <th>Prices in Rs</th>\n",
       "      <th>Max Price</th>\n",
       "      <th>In The Box</th>\n",
       "      <th>Door Type</th>\n",
       "      <th>Refrigerator Type</th>\n",
       "      <th>Defrosting Type</th>\n",
       "      <th>Compressor Type</th>\n",
       "      <th>Capacity</th>\n",
       "      <th>Number of Doors</th>\n",
       "      <th>Star Rating</th>\n",
       "      <th>Coolpad</th>\n",
       "      <th>Toughened Glass</th>\n",
       "      <th>Built-in Stabilizer</th>\n",
       "      <th>Company Name</th>\n",
       "      <th>Height</th>\n",
       "      <th>Width</th>\n",
       "      <th>Depth</th>\n",
       "      <th>Weight</th>\n",
       "    </tr>\n",
       "  </thead>\n",
       "  <tbody>\n",
       "    <tr>\n",
       "      <th>685</th>\n",
       "      <td>Panasonic 194 L Direct Cool Single Door 3 Star...</td>\n",
       "      <td>4.2</td>\n",
       "      <td>15199.0</td>\n",
       "      <td>17990.0</td>\n",
       "      <td>Main Unit, User Manual</td>\n",
       "      <td>Single Door</td>\n",
       "      <td>Top Freezer</td>\n",
       "      <td>Direct Cool</td>\n",
       "      <td>inverter compressor</td>\n",
       "      <td>194</td>\n",
       "      <td>1</td>\n",
       "      <td>3.0</td>\n",
       "      <td>no</td>\n",
       "      <td>yes</td>\n",
       "      <td>Yes</td>\n",
       "      <td>Panasonic</td>\n",
       "      <td>NaN</td>\n",
       "      <td>NaN</td>\n",
       "      <td>NaN</td>\n",
       "      <td>NaN</td>\n",
       "    </tr>\n",
       "    <tr>\n",
       "      <th>778</th>\n",
       "      <td>Panasonic 450 L Frost Free Double Door Bottom ...</td>\n",
       "      <td>4.2</td>\n",
       "      <td>59790.0</td>\n",
       "      <td>72000.0</td>\n",
       "      <td>1 Refrigerator Unit, Ice Cube Tray, Egg Tray, ...</td>\n",
       "      <td>Double Door</td>\n",
       "      <td>Bottom Freezer</td>\n",
       "      <td>Frost Free</td>\n",
       "      <td>inverter compressor</td>\n",
       "      <td>450</td>\n",
       "      <td>2</td>\n",
       "      <td>3.0</td>\n",
       "      <td>no</td>\n",
       "      <td>yes</td>\n",
       "      <td>Yes</td>\n",
       "      <td>Panasonic</td>\n",
       "      <td>NaN</td>\n",
       "      <td>NaN</td>\n",
       "      <td>NaN</td>\n",
       "      <td>NaN</td>\n",
       "    </tr>\n",
       "  </tbody>\n",
       "</table>\n",
       "</div>"
      ],
      "text/plain": [
       "                                          Product Name  Product Rating  \\\n",
       "685  Panasonic 194 L Direct Cool Single Door 3 Star...             4.2   \n",
       "778  Panasonic 450 L Frost Free Double Door Bottom ...             4.2   \n",
       "\n",
       "     Prices in Rs  Max Price  \\\n",
       "685       15199.0    17990.0   \n",
       "778       59790.0    72000.0   \n",
       "\n",
       "                                            In The Box    Door Type  \\\n",
       "685                             Main Unit, User Manual  Single Door   \n",
       "778  1 Refrigerator Unit, Ice Cube Tray, Egg Tray, ...  Double Door   \n",
       "\n",
       "    Refrigerator Type Defrosting Type      Compressor Type  Capacity  \\\n",
       "685       Top Freezer     Direct Cool  inverter compressor       194   \n",
       "778    Bottom Freezer      Frost Free  inverter compressor       450   \n",
       "\n",
       "     Number of Doors  Star Rating Coolpad Toughened Glass Built-in Stabilizer  \\\n",
       "685                1          3.0      no             yes                 Yes   \n",
       "778                2          3.0      no             yes                 Yes   \n",
       "\n",
       "    Company Name Height Width Depth Weight  \n",
       "685    Panasonic    NaN   NaN   NaN    NaN  \n",
       "778    Panasonic    NaN   NaN   NaN    NaN  "
      ]
     },
     "execution_count": 75,
     "metadata": {},
     "output_type": "execute_result"
    }
   ],
   "source": [
    "data[data['Height'].isnull()]"
   ]
  },
  {
   "cell_type": "code",
   "execution_count": 76,
   "metadata": {},
   "outputs": [],
   "source": [
    "data=data.dropna(subset=['Height'])"
   ]
  },
  {
   "cell_type": "code",
   "execution_count": 77,
   "metadata": {},
   "outputs": [
    {
     "data": {
      "text/plain": [
       "Product Name           0\n",
       "Product Rating         0\n",
       "Prices in Rs           0\n",
       "Max Price              0\n",
       "In The Box             0\n",
       "Door Type              0\n",
       "Refrigerator Type      0\n",
       "Defrosting Type        0\n",
       "Compressor Type        0\n",
       "Capacity               0\n",
       "Number of Doors        0\n",
       "Star Rating            0\n",
       "Coolpad                0\n",
       "Toughened Glass        0\n",
       "Built-in Stabilizer    0\n",
       "Company Name           0\n",
       "Height                 0\n",
       "Width                  0\n",
       "Depth                  0\n",
       "Weight                 0\n",
       "dtype: int64"
      ]
     },
     "execution_count": 77,
     "metadata": {},
     "output_type": "execute_result"
    }
   ],
   "source": [
    "data.isnull().sum()"
   ]
  },
  {
   "cell_type": "code",
   "execution_count": 78,
   "metadata": {},
   "outputs": [],
   "source": [
    "def replacefunction(a):\n",
    "    data[a]=data[a].str.replace(\" \\D+\",\"\")\n",
    "    \n",
    "replacefunction('Height')\n",
    "replacefunction('Width')\n",
    "replacefunction('Depth')\n",
    "replacefunction('Weight')"
   ]
  },
  {
   "cell_type": "code",
   "execution_count": 79,
   "metadata": {},
   "outputs": [
    {
     "data": {
      "text/html": [
       "<div>\n",
       "<style scoped>\n",
       "    .dataframe tbody tr th:only-of-type {\n",
       "        vertical-align: middle;\n",
       "    }\n",
       "\n",
       "    .dataframe tbody tr th {\n",
       "        vertical-align: top;\n",
       "    }\n",
       "\n",
       "    .dataframe thead th {\n",
       "        text-align: right;\n",
       "    }\n",
       "</style>\n",
       "<table border=\"1\" class=\"dataframe\">\n",
       "  <thead>\n",
       "    <tr style=\"text-align: right;\">\n",
       "      <th></th>\n",
       "      <th>Product Name</th>\n",
       "      <th>Product Rating</th>\n",
       "      <th>Prices in Rs</th>\n",
       "      <th>Max Price</th>\n",
       "      <th>In The Box</th>\n",
       "      <th>Door Type</th>\n",
       "      <th>Refrigerator Type</th>\n",
       "      <th>Defrosting Type</th>\n",
       "      <th>Compressor Type</th>\n",
       "      <th>Capacity</th>\n",
       "      <th>Number of Doors</th>\n",
       "      <th>Star Rating</th>\n",
       "      <th>Coolpad</th>\n",
       "      <th>Toughened Glass</th>\n",
       "      <th>Built-in Stabilizer</th>\n",
       "      <th>Company Name</th>\n",
       "      <th>Height</th>\n",
       "      <th>Width</th>\n",
       "      <th>Depth</th>\n",
       "      <th>Weight</th>\n",
       "    </tr>\n",
       "  </thead>\n",
       "  <tbody>\n",
       "    <tr>\n",
       "      <th>223</th>\n",
       "      <td>SAMSUNG 198 L Direct Cool Single Door 4 Star R...</td>\n",
       "      <td>4.3</td>\n",
       "      <td>18300.0</td>\n",
       "      <td>21990.0</td>\n",
       "      <td>1 Refrigerator Unit, User Manual, Warranty Card</td>\n",
       "      <td>Single Door</td>\n",
       "      <td>Top Freezer</td>\n",
       "      <td>Direct Cool</td>\n",
       "      <td>inverter compressor</td>\n",
       "      <td>198</td>\n",
       "      <td>1</td>\n",
       "      <td>4.0</td>\n",
       "      <td>no</td>\n",
       "      <td>yes</td>\n",
       "      <td>Yes</td>\n",
       "      <td>SAMSUNG</td>\n",
       "      <td>121.61</td>\n",
       "      <td>56.8</td>\n",
       "      <td>71.05</td>\n",
       "      <td>36.5</td>\n",
       "    </tr>\n",
       "    <tr>\n",
       "      <th>40</th>\n",
       "      <td>Haier 190 L Direct Cool Single Door 2 Star Ref...</td>\n",
       "      <td>4.3</td>\n",
       "      <td>13999.0</td>\n",
       "      <td>15300.0</td>\n",
       "      <td>1 Refrigerator Unit, User Manual, Warranty Car...</td>\n",
       "      <td>Single Door</td>\n",
       "      <td>Top Freezer</td>\n",
       "      <td>Direct Cool</td>\n",
       "      <td>normal compressor</td>\n",
       "      <td>190</td>\n",
       "      <td>1</td>\n",
       "      <td>2.0</td>\n",
       "      <td>no</td>\n",
       "      <td>yes</td>\n",
       "      <td>Yes</td>\n",
       "      <td>Haier</td>\n",
       "      <td>115.5</td>\n",
       "      <td>53.1</td>\n",
       "      <td>62</td>\n",
       "      <td>32</td>\n",
       "    </tr>\n",
       "    <tr>\n",
       "      <th>163</th>\n",
       "      <td>Haier 258 L Frost Free Double Door 3 Star Conv...</td>\n",
       "      <td>4.2</td>\n",
       "      <td>23800.0</td>\n",
       "      <td>34600.0</td>\n",
       "      <td>1 Refrigerator Unit, User Manual, Warranty Car...</td>\n",
       "      <td>Double Door</td>\n",
       "      <td>Top Freezer</td>\n",
       "      <td>Frost Free</td>\n",
       "      <td>inverter compressor</td>\n",
       "      <td>258</td>\n",
       "      <td>2</td>\n",
       "      <td>3.0</td>\n",
       "      <td>no</td>\n",
       "      <td>yes</td>\n",
       "      <td>Yes</td>\n",
       "      <td>Haier</td>\n",
       "      <td>1560</td>\n",
       "      <td>548</td>\n",
       "      <td>615</td>\n",
       "      <td>58</td>\n",
       "    </tr>\n",
       "    <tr>\n",
       "      <th>423</th>\n",
       "      <td>LG 260 L Frost Free Double Door 2 Star Refrige...</td>\n",
       "      <td>4.3</td>\n",
       "      <td>25999.0</td>\n",
       "      <td>30390.0</td>\n",
       "      <td>1 Refrigerator, User Manual, Warranty Card</td>\n",
       "      <td>Double Door</td>\n",
       "      <td>Top Freezer</td>\n",
       "      <td>Frost Free</td>\n",
       "      <td>inverter compressor</td>\n",
       "      <td>260</td>\n",
       "      <td>2</td>\n",
       "      <td>2.0</td>\n",
       "      <td>yes</td>\n",
       "      <td>yes</td>\n",
       "      <td>Yes</td>\n",
       "      <td>LG</td>\n",
       "      <td>147.5</td>\n",
       "      <td>58.5</td>\n",
       "      <td>70.3</td>\n",
       "      <td>46</td>\n",
       "    </tr>\n",
       "    <tr>\n",
       "      <th>615</th>\n",
       "      <td>LG 188 L Direct Cool Single Door 3 Star Refrig...</td>\n",
       "      <td>4.3</td>\n",
       "      <td>15390.0</td>\n",
       "      <td>18390.0</td>\n",
       "      <td>1 Refrigerator Unit, User Manual, Warranty Card</td>\n",
       "      <td>Single Door</td>\n",
       "      <td>Top Freezer</td>\n",
       "      <td>Direct Cool</td>\n",
       "      <td>inverter compressor</td>\n",
       "      <td>188</td>\n",
       "      <td>1</td>\n",
       "      <td>3.0</td>\n",
       "      <td>no</td>\n",
       "      <td>yes</td>\n",
       "      <td>Yes</td>\n",
       "      <td>LG</td>\n",
       "      <td>1296</td>\n",
       "      <td>537</td>\n",
       "      <td>631</td>\n",
       "      <td>33</td>\n",
       "    </tr>\n",
       "    <tr>\n",
       "      <th>428</th>\n",
       "      <td>LG 260 L Frost Free Double Door Top Mount 2 St...</td>\n",
       "      <td>4.3</td>\n",
       "      <td>22790.0</td>\n",
       "      <td>30390.0</td>\n",
       "      <td>REFRIGERATOR</td>\n",
       "      <td>Double Door</td>\n",
       "      <td>Top Freezer</td>\n",
       "      <td>Frost Free</td>\n",
       "      <td>inverter compressor</td>\n",
       "      <td>260</td>\n",
       "      <td>2</td>\n",
       "      <td>2.0</td>\n",
       "      <td>no</td>\n",
       "      <td>yes</td>\n",
       "      <td>Yes</td>\n",
       "      <td>LG</td>\n",
       "      <td>1475</td>\n",
       "      <td>585</td>\n",
       "      <td>669</td>\n",
       "      <td>48</td>\n",
       "    </tr>\n",
       "    <tr>\n",
       "      <th>82</th>\n",
       "      <td>SAMSUNG 275 L Frost Free Double Door 3 Star Co...</td>\n",
       "      <td>3.5</td>\n",
       "      <td>31255.0</td>\n",
       "      <td>35990.0</td>\n",
       "      <td>1 Refrigerator Unit, User Manual with Warranty...</td>\n",
       "      <td>Double Door</td>\n",
       "      <td>Top Freezer</td>\n",
       "      <td>Frost Free</td>\n",
       "      <td>inverter compressor</td>\n",
       "      <td>275</td>\n",
       "      <td>2</td>\n",
       "      <td>3.0</td>\n",
       "      <td>no</td>\n",
       "      <td>yes</td>\n",
       "      <td>Yes</td>\n",
       "      <td>SAMSUNG</td>\n",
       "      <td>1635</td>\n",
       "      <td>637</td>\n",
       "      <td>555</td>\n",
       "      <td>50</td>\n",
       "    </tr>\n",
       "    <tr>\n",
       "      <th>325</th>\n",
       "      <td>SAMSUNG 255 L Direct Cool Single Door 3 Star R...</td>\n",
       "      <td>4.3</td>\n",
       "      <td>20390.0</td>\n",
       "      <td>25990.0</td>\n",
       "      <td>1 Unit Refrigerator, User Manual with Warranty...</td>\n",
       "      <td>Single Door</td>\n",
       "      <td>Top Freezer</td>\n",
       "      <td>Direct Cool</td>\n",
       "      <td>inverter compressor</td>\n",
       "      <td>255</td>\n",
       "      <td>1</td>\n",
       "      <td>3.0</td>\n",
       "      <td>yes</td>\n",
       "      <td>yes</td>\n",
       "      <td>Yes</td>\n",
       "      <td>SAMSUNG</td>\n",
       "      <td>161.5</td>\n",
       "      <td>54.9</td>\n",
       "      <td>64</td>\n",
       "      <td>45</td>\n",
       "    </tr>\n",
       "    <tr>\n",
       "      <th>523</th>\n",
       "      <td>SAMSUNG 265 L Frost Free Double Door 3 Star Co...</td>\n",
       "      <td>4.3</td>\n",
       "      <td>31800.0</td>\n",
       "      <td>36990.0</td>\n",
       "      <td>1 Refrigerator Unit, User Manual with Warranty...</td>\n",
       "      <td>Double Door</td>\n",
       "      <td>Top Freezer</td>\n",
       "      <td>Frost Free</td>\n",
       "      <td>inverter compressor</td>\n",
       "      <td>265</td>\n",
       "      <td>2</td>\n",
       "      <td>3.0</td>\n",
       "      <td>no</td>\n",
       "      <td>yes</td>\n",
       "      <td>Yes</td>\n",
       "      <td>SAMSUNG</td>\n",
       "      <td>1635</td>\n",
       "      <td>637</td>\n",
       "      <td>555</td>\n",
       "      <td>50</td>\n",
       "    </tr>\n",
       "    <tr>\n",
       "      <th>306</th>\n",
       "      <td>SAMSUNG 244 L Frost Free Double Door 3 Star Co...</td>\n",
       "      <td>4.5</td>\n",
       "      <td>33900.0</td>\n",
       "      <td>33990.0</td>\n",
       "      <td>1 Refrigerator Unit, User Manual with Warranty...</td>\n",
       "      <td>Double Door</td>\n",
       "      <td>Top Freezer</td>\n",
       "      <td>Frost Free</td>\n",
       "      <td>inverter compressor</td>\n",
       "      <td>244</td>\n",
       "      <td>2</td>\n",
       "      <td>3.0</td>\n",
       "      <td>no</td>\n",
       "      <td>yes</td>\n",
       "      <td>Yes</td>\n",
       "      <td>SAMSUNG</td>\n",
       "      <td>1673</td>\n",
       "      <td>566</td>\n",
       "      <td>637</td>\n",
       "      <td>49</td>\n",
       "    </tr>\n",
       "  </tbody>\n",
       "</table>\n",
       "</div>"
      ],
      "text/plain": [
       "                                          Product Name  Product Rating  \\\n",
       "223  SAMSUNG 198 L Direct Cool Single Door 4 Star R...             4.3   \n",
       "40   Haier 190 L Direct Cool Single Door 2 Star Ref...             4.3   \n",
       "163  Haier 258 L Frost Free Double Door 3 Star Conv...             4.2   \n",
       "423  LG 260 L Frost Free Double Door 2 Star Refrige...             4.3   \n",
       "615  LG 188 L Direct Cool Single Door 3 Star Refrig...             4.3   \n",
       "428  LG 260 L Frost Free Double Door Top Mount 2 St...             4.3   \n",
       "82   SAMSUNG 275 L Frost Free Double Door 3 Star Co...             3.5   \n",
       "325  SAMSUNG 255 L Direct Cool Single Door 3 Star R...             4.3   \n",
       "523  SAMSUNG 265 L Frost Free Double Door 3 Star Co...             4.3   \n",
       "306  SAMSUNG 244 L Frost Free Double Door 3 Star Co...             4.5   \n",
       "\n",
       "     Prices in Rs  Max Price  \\\n",
       "223       18300.0    21990.0   \n",
       "40        13999.0    15300.0   \n",
       "163       23800.0    34600.0   \n",
       "423       25999.0    30390.0   \n",
       "615       15390.0    18390.0   \n",
       "428       22790.0    30390.0   \n",
       "82        31255.0    35990.0   \n",
       "325       20390.0    25990.0   \n",
       "523       31800.0    36990.0   \n",
       "306       33900.0    33990.0   \n",
       "\n",
       "                                            In The Box    Door Type  \\\n",
       "223    1 Refrigerator Unit, User Manual, Warranty Card  Single Door   \n",
       "40   1 Refrigerator Unit, User Manual, Warranty Car...  Single Door   \n",
       "163  1 Refrigerator Unit, User Manual, Warranty Car...  Double Door   \n",
       "423         1 Refrigerator, User Manual, Warranty Card  Double Door   \n",
       "615    1 Refrigerator Unit, User Manual, Warranty Card  Single Door   \n",
       "428                                       REFRIGERATOR  Double Door   \n",
       "82   1 Refrigerator Unit, User Manual with Warranty...  Double Door   \n",
       "325  1 Unit Refrigerator, User Manual with Warranty...  Single Door   \n",
       "523  1 Refrigerator Unit, User Manual with Warranty...  Double Door   \n",
       "306  1 Refrigerator Unit, User Manual with Warranty...  Double Door   \n",
       "\n",
       "    Refrigerator Type Defrosting Type      Compressor Type  Capacity  \\\n",
       "223       Top Freezer     Direct Cool  inverter compressor       198   \n",
       "40        Top Freezer     Direct Cool    normal compressor       190   \n",
       "163       Top Freezer      Frost Free  inverter compressor       258   \n",
       "423       Top Freezer      Frost Free  inverter compressor       260   \n",
       "615       Top Freezer     Direct Cool  inverter compressor       188   \n",
       "428       Top Freezer      Frost Free  inverter compressor       260   \n",
       "82        Top Freezer      Frost Free  inverter compressor       275   \n",
       "325       Top Freezer     Direct Cool  inverter compressor       255   \n",
       "523       Top Freezer      Frost Free  inverter compressor       265   \n",
       "306       Top Freezer      Frost Free  inverter compressor       244   \n",
       "\n",
       "     Number of Doors  Star Rating Coolpad Toughened Glass Built-in Stabilizer  \\\n",
       "223                1          4.0      no             yes                 Yes   \n",
       "40                 1          2.0      no             yes                 Yes   \n",
       "163                2          3.0      no             yes                 Yes   \n",
       "423                2          2.0     yes             yes                 Yes   \n",
       "615                1          3.0      no             yes                 Yes   \n",
       "428                2          2.0      no             yes                 Yes   \n",
       "82                 2          3.0      no             yes                 Yes   \n",
       "325                1          3.0     yes             yes                 Yes   \n",
       "523                2          3.0      no             yes                 Yes   \n",
       "306                2          3.0      no             yes                 Yes   \n",
       "\n",
       "    Company Name  Height Width  Depth Weight  \n",
       "223      SAMSUNG  121.61  56.8  71.05   36.5  \n",
       "40         Haier   115.5  53.1     62     32  \n",
       "163        Haier    1560   548    615     58  \n",
       "423           LG   147.5  58.5   70.3     46  \n",
       "615           LG    1296   537    631     33  \n",
       "428           LG    1475   585    669     48  \n",
       "82       SAMSUNG    1635   637    555     50  \n",
       "325      SAMSUNG   161.5  54.9     64     45  \n",
       "523      SAMSUNG    1635   637    555     50  \n",
       "306      SAMSUNG    1673   566    637     49  "
      ]
     },
     "execution_count": 79,
     "metadata": {},
     "output_type": "execute_result"
    }
   ],
   "source": [
    "data.sample(10)"
   ]
  },
  {
   "cell_type": "code",
   "execution_count": 82,
   "metadata": {},
   "outputs": [],
   "source": [
    "data['Height']=pd.to_numeric(data['Height'])\n",
    "data['Width']=pd.to_numeric(data['Width'])\n",
    "data['Depth']=pd.to_numeric(data['Depth'])\n",
    "data['Weight']=pd.to_numeric(data['Weight'])"
   ]
  },
  {
   "cell_type": "code",
   "execution_count": 83,
   "metadata": {
    "scrolled": true
   },
   "outputs": [
    {
     "name": "stdout",
     "output_type": "stream",
     "text": [
      "<class 'pandas.core.frame.DataFrame'>\n",
      "Int64Index: 778 entries, 0 to 832\n",
      "Data columns (total 20 columns):\n",
      " #   Column               Non-Null Count  Dtype  \n",
      "---  ------               --------------  -----  \n",
      " 0   Product Name         778 non-null    object \n",
      " 1   Product Rating       778 non-null    float64\n",
      " 2   Prices in Rs         778 non-null    float64\n",
      " 3   Max Price            778 non-null    float64\n",
      " 4   In The Box           778 non-null    object \n",
      " 5   Door Type            778 non-null    object \n",
      " 6   Refrigerator Type    778 non-null    object \n",
      " 7   Defrosting Type      778 non-null    object \n",
      " 8   Compressor Type      778 non-null    object \n",
      " 9   Capacity             778 non-null    int64  \n",
      " 10  Number of Doors      778 non-null    int64  \n",
      " 11  Star Rating          778 non-null    float64\n",
      " 12  Coolpad              778 non-null    object \n",
      " 13  Toughened Glass      778 non-null    object \n",
      " 14  Built-in Stabilizer  778 non-null    object \n",
      " 15  Company Name         778 non-null    object \n",
      " 16  Height               778 non-null    float64\n",
      " 17  Width                778 non-null    float64\n",
      " 18  Depth                778 non-null    float64\n",
      " 19  Weight               778 non-null    float64\n",
      "dtypes: float64(8), int64(2), object(10)\n",
      "memory usage: 127.6+ KB\n"
     ]
    }
   ],
   "source": [
    "data.info()"
   ]
  },
  {
   "cell_type": "code",
   "execution_count": 103,
   "metadata": {
    "scrolled": true
   },
   "outputs": [
    {
     "data": {
      "text/plain": [
       "<seaborn.axisgrid.FacetGrid at 0x281344a34c0>"
      ]
     },
     "execution_count": 103,
     "metadata": {},
     "output_type": "execute_result"
    },
    {
     "data": {
      "image/png": "[encoded data removed]",
      "text/plain": [
       "<Figure size 1152x288 with 1 Axes>"
      ]
     },
     "metadata": {
      "needs_background": "light"
     },
     "output_type": "display_data"
    }
   ],
   "source": [
    "sns.displot(x='Height',data=data,binwidth=30,height=4,aspect=4)"
   ]
  },
  {
   "cell_type": "code",
   "execution_count": null,
   "metadata": {},
   "outputs": [],
   "source": [
    "x=data['Height']\n",
    "data['Height']=data['Height'].apply(lambda x: data['Height']/10 if x>300 else x)"
   ]
  },
  {
   "cell_type": "code",
   "execution_count": 125,
   "metadata": {},
   "outputs": [
    {
     "ename": "ValueError",
     "evalue": "The truth value of a Series is ambiguous. Use a.empty, a.bool(), a.item(), a.any() or a.all().",
     "output_type": "error",
     "traceback": [
      "\u001b[1;31m---------------------------------------------------------------------------\u001b[0m",
      "\u001b[1;31mValueError\u001b[0m                                Traceback (most recent call last)",
      "\u001b[1;32m<ipython-input-125-87dd2975a918>\u001b[0m in \u001b[0;36m<module>\u001b[1;34m\u001b[0m\n\u001b[0;32m      1\u001b[0m \u001b[0mtest\u001b[0m\u001b[1;33m=\u001b[0m\u001b[1;32mlambda\u001b[0m \u001b[0mx\u001b[0m\u001b[1;33m:\u001b[0m \u001b[0mdata\u001b[0m\u001b[1;33m[\u001b[0m\u001b[1;34m'Height'\u001b[0m\u001b[1;33m]\u001b[0m\u001b[1;33m/\u001b[0m\u001b[1;36m10\u001b[0m \u001b[1;32mif\u001b[0m \u001b[0mx\u001b[0m\u001b[1;33m>\u001b[0m\u001b[1;36m300\u001b[0m \u001b[1;32melse\u001b[0m \u001b[0mx\u001b[0m\u001b[1;33m\u001b[0m\u001b[1;33m\u001b[0m\u001b[0m\n\u001b[1;32m----> 2\u001b[1;33m \u001b[0mtest\u001b[0m\u001b[1;33m(\u001b[0m\u001b[0mdata\u001b[0m\u001b[1;33m[\u001b[0m\u001b[1;34m'Height'\u001b[0m\u001b[1;33m]\u001b[0m\u001b[1;33m)\u001b[0m\u001b[1;33m\u001b[0m\u001b[1;33m\u001b[0m\u001b[0m\n\u001b[0m",
      "\u001b[1;32m<ipython-input-125-87dd2975a918>\u001b[0m in \u001b[0;36m<lambda>\u001b[1;34m(x)\u001b[0m\n\u001b[1;32m----> 1\u001b[1;33m \u001b[0mtest\u001b[0m\u001b[1;33m=\u001b[0m\u001b[1;32mlambda\u001b[0m \u001b[0mx\u001b[0m\u001b[1;33m:\u001b[0m \u001b[0mdata\u001b[0m\u001b[1;33m[\u001b[0m\u001b[1;34m'Height'\u001b[0m\u001b[1;33m]\u001b[0m\u001b[1;33m/\u001b[0m\u001b[1;36m10\u001b[0m \u001b[1;32mif\u001b[0m \u001b[0mx\u001b[0m\u001b[1;33m>\u001b[0m\u001b[1;36m300\u001b[0m \u001b[1;32melse\u001b[0m \u001b[0mx\u001b[0m\u001b[1;33m\u001b[0m\u001b[1;33m\u001b[0m\u001b[0m\n\u001b[0m\u001b[0;32m      2\u001b[0m \u001b[0mtest\u001b[0m\u001b[1;33m(\u001b[0m\u001b[0mdata\u001b[0m\u001b[1;33m[\u001b[0m\u001b[1;34m'Height'\u001b[0m\u001b[1;33m]\u001b[0m\u001b[1;33m)\u001b[0m\u001b[1;33m\u001b[0m\u001b[1;33m\u001b[0m\u001b[0m\n",
      "\u001b[1;32mC:\\ProgramData\\Anaconda3\\lib\\site-packages\\pandas\\core\\generic.py\u001b[0m in \u001b[0;36m__nonzero__\u001b[1;34m(self)\u001b[0m\n\u001b[0;32m   1440\u001b[0m     \u001b[1;33m@\u001b[0m\u001b[0mfinal\u001b[0m\u001b[1;33m\u001b[0m\u001b[1;33m\u001b[0m\u001b[0m\n\u001b[0;32m   1441\u001b[0m     \u001b[1;32mdef\u001b[0m \u001b[0m__nonzero__\u001b[0m\u001b[1;33m(\u001b[0m\u001b[0mself\u001b[0m\u001b[1;33m)\u001b[0m\u001b[1;33m:\u001b[0m\u001b[1;33m\u001b[0m\u001b[1;33m\u001b[0m\u001b[0m\n\u001b[1;32m-> 1442\u001b[1;33m         raise ValueError(\n\u001b[0m\u001b[0;32m   1443\u001b[0m             \u001b[1;34mf\"The truth value of a {type(self).__name__} is ambiguous. \"\u001b[0m\u001b[1;33m\u001b[0m\u001b[1;33m\u001b[0m\u001b[0m\n\u001b[0;32m   1444\u001b[0m             \u001b[1;34m\"Use a.empty, a.bool(), a.item(), a.any() or a.all().\"\u001b[0m\u001b[1;33m\u001b[0m\u001b[1;33m\u001b[0m\u001b[0m\n",
      "\u001b[1;31mValueError\u001b[0m: The truth value of a Series is ambiguous. Use a.empty, a.bool(), a.item(), a.any() or a.all()."
     ]
    }
   ],
   "source": [
    "test=lambda x: data['Height']/10 if x>300 else x\n",
    "test(data['Height'])"
   ]
  },
  {
   "cell_type": "code",
   "execution_count": 134,
   "metadata": {},
   "outputs": [
    {
     "ename": "SyntaxError",
     "evalue": "invalid syntax (<ipython-input-134-30729db40172>, line 1)",
     "output_type": "error",
     "traceback": [
      "\u001b[1;36m  File \u001b[1;32m\"<ipython-input-134-30729db40172>\"\u001b[1;36m, line \u001b[1;32m1\u001b[0m\n\u001b[1;33m    data['Height'] if (data['Height']>300):\u001b[0m\n\u001b[1;37m                                          ^\u001b[0m\n\u001b[1;31mSyntaxError\u001b[0m\u001b[1;31m:\u001b[0m invalid syntax\n"
     ]
    }
   ],
   "source": [
    "data['Height'] for (data['Height']>300):\n",
    "    p=(data['Height'].div(10))"
   ]
  },
  {
   "cell_type": "code",
   "execution_count": 129,
   "metadata": {},
   "outputs": [
    {
     "data": {
      "text/plain": [
       "array([119.1  , 154.5  ,  13.25 , 147.5  ,  15.2  ,  11.55 ,  13.252,\n",
       "       117.2  ,  13.26 ,  11.8  ,  12.6  , 133.8  ,  15.45 , 141.   ,\n",
       "       163.5  ,  11.95 ,  12.18 ,  14.37 , 131.   ,  12.47 , 103.5  ,\n",
       "       130.   , 177.3  ,  13.   , 121.8  ,  16.4  , 144.5  , 133.   ,\n",
       "        12.2  , 156.   ,  14.7  , 179.   , 132.6  , 114.2  ,  15.9  ,\n",
       "        15.   ,  10.75 ,  15.3  ,  12.16 , 174.   , 159.   ,  15.6  ,\n",
       "       177.   ,  12.161, 118.4  , 167.3  , 110.5  , 170.   , 168.5  ,\n",
       "        12.67 , 176.   , 169.1  ,  14.1  , 132.5  , 117.3  , 172.   ,\n",
       "       166.   ,  16.8  ,  17.8  ,  13.38 , 133.6  , 174.7  , 178.8  ,\n",
       "        10.37 , 124.7  ,  16.15 , 185.   , 171.5  , 126.7  , 121.6  ,\n",
       "       104.   , 155.   , 135.5  ,  12.8  , 109.7  , 122.   ,  13.32 ,\n",
       "       149.5  , 150.   ,  14.75 ,  14.48 ,  50.1  ,  12.7  ,  13.33 ,\n",
       "       148.   , 193.   , 124.5  , 168.   , 145.9  , 178.   , 177.6  ,\n",
       "       151.8  , 180.   , 169.5  , 143.7  , 129.   ,  18.25 , 177.7  ,\n",
       "       157.5  , 181.6  , 119.4  , 192.   ,  15.05 , 186.5  ,  11.9  ,\n",
       "        15.5  , 114.7  , 178.5  ,  17.75 , 125.   ,  13.61 ,  18.08 ,\n",
       "       160.   , 150.2  , 119.   ,  16.75 , 131.3  ,  16.91 ,  18.01 ,\n",
       "       185.3  ,  11.84 , 185.6  , 187.4  ,  17.2  , 167.2  , 120.   ,\n",
       "       190.3  , 129.6  ,  18.1  ,  16.2  ,  14.07 , 157.   , 177.9  ,\n",
       "        13.07 , 172.5  , 116.7  ,  17.86 ,  17.85 , 158.   , 132.52 ,\n",
       "       175.6  ,  17.55 , 184.   , 167.5  ,  13.6  , 186.2  ,  18.16 ,\n",
       "        13.15 ,  17.56 , 130.4  ,  11.42 ,  16.35 , 134.1  ,  16.79 ,\n",
       "        15.36 ,  16.08 ,  14.43 , 171.4  , 176.3  , 179.5  , 185.5  ,\n",
       "        16.81 , 143.3  ,  19.   , 180.4  ,  14.82 , 186.   , 178.7  ,\n",
       "       141.5  , 163.   , 148.5  ,  15.02 , 116.   , 171.1  ,  12.39 ,\n",
       "       131.9  , 115.9  ,  16.89 ,  50.5  ,  86.   ,  49.2  , 173.8  ,\n",
       "       164.   ,  13.1  ,  11.25 ,  50.   , 161.2  ])"
      ]
     },
     "execution_count": 129,
     "metadata": {},
     "output_type": "execute_result"
    }
   ],
   "source": [
    "p.unique()"
   ]
  },
  {
   "cell_type": "code",
   "execution_count": 104,
   "metadata": {},
   "outputs": [
    {
     "data": {
      "text/plain": [
       "<seaborn.axisgrid.FacetGrid at 0x281341eec40>"
      ]
     },
     "execution_count": 104,
     "metadata": {},
     "output_type": "execute_result"
    },
    {
     "data": {
      "image/png": "[encoded data removed]",
      "text/plain": [
       "<Figure size 1152x288 with 1 Axes>"
      ]
     },
     "metadata": {
      "needs_background": "light"
     },
     "output_type": "display_data"
    }
   ],
   "source": [
    "sns.displot(x='Width',data=data,binwidth=30,height=4,aspect=4)"
   ]
  },
  {
   "cell_type": "code",
   "execution_count": 106,
   "metadata": {},
   "outputs": [
    {
     "data": {
      "text/plain": [
       "<seaborn.axisgrid.FacetGrid at 0x28134493d00>"
      ]
     },
     "execution_count": 106,
     "metadata": {},
     "output_type": "execute_result"
    },
    {
     "data": {
      "image/png": "[encoded data removed]",
      "text/plain": [
       "<Figure size 1152x288 with 1 Axes>"
      ]
     },
     "metadata": {
      "needs_background": "light"
     },
     "output_type": "display_data"
    }
   ],
   "source": [
    "sns.displot(x='Depth',data=data,binwidth=30,height=4,aspect=4)"
   ]
  },
  {
   "cell_type": "raw",
   "metadata": {},
   "source": [
    "data.to_csv(r\"cleaned Ref Data.csv\",index=False)"
   ]
  }
 ],
 "metadata": {
  "kernelspec": {
   "display_name": "Python 3",
   "language": "python",
   "name": "python3"
  },
  "language_info": {
   "codemirror_mode": {
    "name": "ipython",
    "version": 3
   },
   "file_extension": ".py",
   "mimetype": "text/x-python",
   "name": "python",
   "nbconvert_exporter": "python",
   "pygments_lexer": "ipython3",
   "version": "3.8.5"
  }
 },
 "nbformat": 4,
 "nbformat_minor": 5
}
