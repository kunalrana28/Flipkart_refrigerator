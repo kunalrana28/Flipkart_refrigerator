{
 "cells": [
  {
   "cell_type": "code",
   "execution_count": 57,
   "metadata": {
    "id": "5e4712d3"
   },
   "outputs": [],
   "source": [
    "import matplotlib.pyplot as plt\n",
    "%matplotlib inline\n",
    "import pandas as pd\n",
    "import numpy as np\n",
    "import seaborn as sns\n",
    "import warnings\n",
    "warnings.filterwarnings('ignore')"
   ]
  },
  {
   "cell_type": "code",
   "execution_count": 58,
   "metadata": {
    "colab": {
     "base_uri": "https://localhost:8080/"
    },
    "id": "rlPkWQSj5UwS",
    "outputId": "1f41d4e5-155f-46f4-abfe-b2fa7c91c619"
   },
   "outputs": [
    {
     "name": "stdout",
     "output_type": "stream",
     "text": [
      "Drive already mounted at Colab; to attempt to forcibly remount, call drive.mount(\"Colab\", force_remount=True).\n"
     ]
    }
   ],
   "source": [
    "from google.colab import drive\n",
    "drive.mount('Colab')"
   ]
  },
  {
   "cell_type": "code",
   "execution_count": 59,
   "metadata": {
    "id": "fad7e736"
   },
   "outputs": [],
   "source": [
    "data=pd.read_csv('/content/Colab/MyDrive/Colab/Flipkart refrigerator Data/cleaned Ref Data.csv')"
   ]
  },
  {
   "cell_type": "code",
   "execution_count": 60,
   "metadata": {
    "colab": {
     "base_uri": "https://localhost:8080/",
     "height": 782
    },
    "id": "bb4da811",
    "outputId": "10a2c827-534d-4997-e7c3-64b581691609"
   },
   "outputs": [
    {
     "data": {
      "text/html": [
       "<div>\n",
       "<style scoped>\n",
       "    .dataframe tbody tr th:only-of-type {\n",
       "        vertical-align: middle;\n",
       "    }\n",
       "\n",
       "    .dataframe tbody tr th {\n",
       "        vertical-align: top;\n",
       "    }\n",
       "\n",
       "    .dataframe thead th {\n",
       "        text-align: right;\n",
       "    }\n",
       "</style>\n",
       "<table border=\"1\" class=\"dataframe\">\n",
       "  <thead>\n",
       "    <tr style=\"text-align: right;\">\n",
       "      <th></th>\n",
       "      <th>Product Name</th>\n",
       "      <th>Product Rating</th>\n",
       "      <th>Prices in Rs</th>\n",
       "      <th>Max Price</th>\n",
       "      <th>In The Box</th>\n",
       "      <th>Door Type</th>\n",
       "      <th>Refrigerator Type</th>\n",
       "      <th>Defrosting Type</th>\n",
       "      <th>Compressor Type</th>\n",
       "      <th>Capacity</th>\n",
       "      <th>Number of Doors</th>\n",
       "      <th>Star Rating</th>\n",
       "      <th>Coolpad</th>\n",
       "      <th>Toughened Glass</th>\n",
       "      <th>Built-in Stabilizer</th>\n",
       "      <th>Company Name</th>\n",
       "      <th>Height</th>\n",
       "      <th>Width</th>\n",
       "      <th>Depth</th>\n",
       "      <th>Weight</th>\n",
       "    </tr>\n",
       "  </thead>\n",
       "  <tbody>\n",
       "    <tr>\n",
       "      <th>0</th>\n",
       "      <td>Whirlpool 190 L Direct Cool Single Door 2 Star...</td>\n",
       "      <td>4.3</td>\n",
       "      <td>12740.0</td>\n",
       "      <td>14900.0</td>\n",
       "      <td>1 Refrigerator Unit, Warranty Card, User Manual</td>\n",
       "      <td>Single Door</td>\n",
       "      <td>Top Freezer</td>\n",
       "      <td>Direct Cool</td>\n",
       "      <td>normal compressor</td>\n",
       "      <td>190</td>\n",
       "      <td>1</td>\n",
       "      <td>2.0</td>\n",
       "      <td>no</td>\n",
       "      <td>yes</td>\n",
       "      <td>Yes</td>\n",
       "      <td>Whirlpool</td>\n",
       "      <td>119.1</td>\n",
       "      <td>53.6</td>\n",
       "      <td>60.4</td>\n",
       "      <td>32.4</td>\n",
       "    </tr>\n",
       "    <tr>\n",
       "      <th>1</th>\n",
       "      <td>Whirlpool 190 L Direct Cool Single Door 2 Star...</td>\n",
       "      <td>4.3</td>\n",
       "      <td>11990.0</td>\n",
       "      <td>14400.0</td>\n",
       "      <td>1 Refrigerator, User Manual, Warranty Card</td>\n",
       "      <td>Single Door</td>\n",
       "      <td>Top Freezer</td>\n",
       "      <td>Direct Cool</td>\n",
       "      <td>normal compressor</td>\n",
       "      <td>190</td>\n",
       "      <td>1</td>\n",
       "      <td>2.0</td>\n",
       "      <td>no</td>\n",
       "      <td>no</td>\n",
       "      <td>Yes</td>\n",
       "      <td>Whirlpool</td>\n",
       "      <td>119.1</td>\n",
       "      <td>53.6</td>\n",
       "      <td>60.4</td>\n",
       "      <td>32.4</td>\n",
       "    </tr>\n",
       "    <tr>\n",
       "      <th>2</th>\n",
       "      <td>Whirlpool 190 L Direct Cool Single Door 2 Star...</td>\n",
       "      <td>4.3</td>\n",
       "      <td>13740.0</td>\n",
       "      <td>16000.0</td>\n",
       "      <td>1 Refrigerator Unit, Warranty Card, User Manual</td>\n",
       "      <td>Single Door</td>\n",
       "      <td>Top Freezer</td>\n",
       "      <td>Direct Cool</td>\n",
       "      <td>normal compressor</td>\n",
       "      <td>190</td>\n",
       "      <td>1</td>\n",
       "      <td>2.0</td>\n",
       "      <td>no</td>\n",
       "      <td>yes</td>\n",
       "      <td>Yes</td>\n",
       "      <td>Whirlpool</td>\n",
       "      <td>119.1</td>\n",
       "      <td>53.6</td>\n",
       "      <td>60.4</td>\n",
       "      <td>32.4</td>\n",
       "    </tr>\n",
       "    <tr>\n",
       "      <th>3</th>\n",
       "      <td>Whirlpool 190 L Direct Cool Single Door 2 Star...</td>\n",
       "      <td>4.3</td>\n",
       "      <td>13699.0</td>\n",
       "      <td>16150.0</td>\n",
       "      <td>1 Refrigerator\\nUser Manual and Warranty Card</td>\n",
       "      <td>Single Door</td>\n",
       "      <td>Top Freezer</td>\n",
       "      <td>Direct Cool</td>\n",
       "      <td>normal compressor</td>\n",
       "      <td>190</td>\n",
       "      <td>1</td>\n",
       "      <td>2.0</td>\n",
       "      <td>yes</td>\n",
       "      <td>yes</td>\n",
       "      <td>Yes</td>\n",
       "      <td>Whirlpool</td>\n",
       "      <td>119.1</td>\n",
       "      <td>53.6</td>\n",
       "      <td>60.4</td>\n",
       "      <td>32.4</td>\n",
       "    </tr>\n",
       "    <tr>\n",
       "      <th>4</th>\n",
       "      <td>Whirlpool 190 L Direct Cool Single Door 2 Star...</td>\n",
       "      <td>4.3</td>\n",
       "      <td>13399.0</td>\n",
       "      <td>14950.0</td>\n",
       "      <td>1 Refrigerator, User Manual, Warranty Card</td>\n",
       "      <td>Single Door</td>\n",
       "      <td>Top Freezer</td>\n",
       "      <td>Direct Cool</td>\n",
       "      <td>normal compressor</td>\n",
       "      <td>190</td>\n",
       "      <td>1</td>\n",
       "      <td>2.0</td>\n",
       "      <td>no</td>\n",
       "      <td>yes</td>\n",
       "      <td>Yes</td>\n",
       "      <td>Whirlpool</td>\n",
       "      <td>119.1</td>\n",
       "      <td>53.6</td>\n",
       "      <td>60.4</td>\n",
       "      <td>32.4</td>\n",
       "    </tr>\n",
       "  </tbody>\n",
       "</table>\n",
       "</div>"
      ],
      "text/plain": [
       "                                        Product Name  ...  Weight\n",
       "0  Whirlpool 190 L Direct Cool Single Door 2 Star...  ...    32.4\n",
       "1  Whirlpool 190 L Direct Cool Single Door 2 Star...  ...    32.4\n",
       "2  Whirlpool 190 L Direct Cool Single Door 2 Star...  ...    32.4\n",
       "3  Whirlpool 190 L Direct Cool Single Door 2 Star...  ...    32.4\n",
       "4  Whirlpool 190 L Direct Cool Single Door 2 Star...  ...    32.4\n",
       "\n",
       "[5 rows x 20 columns]"
      ]
     },
     "execution_count": 60,
     "metadata": {},
     "output_type": "execute_result"
    }
   ],
   "source": [
    "data.head()"
   ]
  },
  {
   "cell_type": "code",
   "execution_count": 61,
   "metadata": {
    "colab": {
     "base_uri": "https://localhost:8080/"
    },
    "id": "b9333614",
    "outputId": "eae80457-3c5e-462e-8c2d-567198dc2aa4"
   },
   "outputs": [
    {
     "data": {
      "text/plain": [
       "(778, 20)"
      ]
     },
     "execution_count": 61,
     "metadata": {},
     "output_type": "execute_result"
    }
   ],
   "source": [
    "data.shape"
   ]
  },
  {
   "cell_type": "code",
   "execution_count": 62,
   "metadata": {
    "colab": {
     "base_uri": "https://localhost:8080/"
    },
    "id": "aa9ebdc7",
    "outputId": "bcde1fac-2db9-4b7d-b000-70bd673f1602",
    "scrolled": true
   },
   "outputs": [
    {
     "data": {
      "text/plain": [
       "Product Name           0\n",
       "Product Rating         0\n",
       "Prices in Rs           0\n",
       "Max Price              0\n",
       "In The Box             2\n",
       "Door Type              0\n",
       "Refrigerator Type      0\n",
       "Defrosting Type        0\n",
       "Compressor Type        0\n",
       "Capacity               0\n",
       "Number of Doors        0\n",
       "Star Rating            0\n",
       "Coolpad                0\n",
       "Toughened Glass        0\n",
       "Built-in Stabilizer    0\n",
       "Company Name           0\n",
       "Height                 0\n",
       "Width                  0\n",
       "Depth                  0\n",
       "Weight                 0\n",
       "dtype: int64"
      ]
     },
     "execution_count": 62,
     "metadata": {},
     "output_type": "execute_result"
    }
   ],
   "source": [
    "data.isnull().sum()"
   ]
  },
  {
   "cell_type": "code",
   "execution_count": 63,
   "metadata": {
    "id": "51060e86"
   },
   "outputs": [],
   "source": [
    "data[\"In The Box\"].fillna('NA', inplace=True)"
   ]
  },
  {
   "cell_type": "code",
   "execution_count": 64,
   "metadata": {
    "colab": {
     "base_uri": "https://localhost:8080/"
    },
    "id": "51283d34",
    "outputId": "12e4b484-bc6a-4254-d97d-3b4cf880c547",
    "scrolled": true
   },
   "outputs": [
    {
     "data": {
      "text/plain": [
       "Product Name           0\n",
       "Product Rating         0\n",
       "Prices in Rs           0\n",
       "Max Price              0\n",
       "In The Box             0\n",
       "Door Type              0\n",
       "Refrigerator Type      0\n",
       "Defrosting Type        0\n",
       "Compressor Type        0\n",
       "Capacity               0\n",
       "Number of Doors        0\n",
       "Star Rating            0\n",
       "Coolpad                0\n",
       "Toughened Glass        0\n",
       "Built-in Stabilizer    0\n",
       "Company Name           0\n",
       "Height                 0\n",
       "Width                  0\n",
       "Depth                  0\n",
       "Weight                 0\n",
       "dtype: int64"
      ]
     },
     "execution_count": 64,
     "metadata": {},
     "output_type": "execute_result"
    }
   ],
   "source": [
    "data.isnull().sum()"
   ]
  },
  {
   "cell_type": "code",
   "execution_count": 65,
   "metadata": {
    "id": "353043d8"
   },
   "outputs": [],
   "source": [
    "# building custom function for getting dummies of categorical column\n",
    "def dummies(x,df):\n",
    "    temp = pd.get_dummies(df[x],drop_first=True,prefix=x)\n",
    "    df = pd.concat([df, temp], axis = 1)\n",
    "    df.drop([x], axis = 1, inplace = True)\n",
    "    return df\n",
    "data=dummies('Door Type',data)\n",
    "data=dummies('Refrigerator Type',data)\n",
    "data=dummies('Defrosting Type',data)\n",
    "data=dummies('Compressor Type',data)\n",
    "data=dummies('Coolpad',data)\n",
    "data=dummies('Toughened Glass',data)\n",
    "data=dummies('Built-in Stabilizer',data)\n",
    "data=dummies('Company Name',data)"
   ]
  },
  {
   "cell_type": "code",
   "execution_count": 66,
   "metadata": {
    "colab": {
     "base_uri": "https://localhost:8080/",
     "height": 799
    },
    "id": "0bd0aff6",
    "outputId": "ab03bdb4-d2ae-4cb3-ba28-115003fce37d",
    "scrolled": true
   },
   "outputs": [
    {
     "data": {
      "text/html": [
       "<div>\n",
       "<style scoped>\n",
       "    .dataframe tbody tr th:only-of-type {\n",
       "        vertical-align: middle;\n",
       "    }\n",
       "\n",
       "    .dataframe tbody tr th {\n",
       "        vertical-align: top;\n",
       "    }\n",
       "\n",
       "    .dataframe thead th {\n",
       "        text-align: right;\n",
       "    }\n",
       "</style>\n",
       "<table border=\"1\" class=\"dataframe\">\n",
       "  <thead>\n",
       "    <tr style=\"text-align: right;\">\n",
       "      <th></th>\n",
       "      <th>Product Name</th>\n",
       "      <th>Product Rating</th>\n",
       "      <th>Prices in Rs</th>\n",
       "      <th>Max Price</th>\n",
       "      <th>In The Box</th>\n",
       "      <th>Capacity</th>\n",
       "      <th>Number of Doors</th>\n",
       "      <th>Star Rating</th>\n",
       "      <th>Height</th>\n",
       "      <th>Width</th>\n",
       "      <th>Depth</th>\n",
       "      <th>Weight</th>\n",
       "      <th>Door Type_Multi-Door</th>\n",
       "      <th>Door Type_Side by Side</th>\n",
       "      <th>Door Type_Single Door</th>\n",
       "      <th>Refrigerator Type_Not Known</th>\n",
       "      <th>Refrigerator Type_Top Freezer</th>\n",
       "      <th>Defrosting Type_Frost Free</th>\n",
       "      <th>Compressor Type_multi inverter technology</th>\n",
       "      <th>Compressor Type_normal compressor</th>\n",
       "      <th>Compressor Type_rotary compressor</th>\n",
       "      <th>Coolpad_yes</th>\n",
       "      <th>Toughened Glass_yes</th>\n",
       "      <th>Built-in Stabilizer_Yes</th>\n",
       "      <th>Company Name_CANDY</th>\n",
       "      <th>Company Name_Croma</th>\n",
       "      <th>Company Name_Electrolux</th>\n",
       "      <th>Company Name_Galanz</th>\n",
       "      <th>Company Name_Godrej</th>\n",
       "      <th>Company Name_Haier</th>\n",
       "      <th>Company Name_Hisense</th>\n",
       "      <th>Company Name_Hitachi</th>\n",
       "      <th>Company Name_LG</th>\n",
       "      <th>Company Name_Liebherr</th>\n",
       "      <th>Company Name_Lifelong</th>\n",
       "      <th>Company Name_Lloyd</th>\n",
       "      <th>Company Name_MITASHI</th>\n",
       "      <th>Company Name_MOTOROLA</th>\n",
       "      <th>Company Name_MarQ</th>\n",
       "      <th>Company Name_Midea</th>\n",
       "      <th>Company Name_ONIDA</th>\n",
       "      <th>Company Name_Panasonic</th>\n",
       "      <th>Company Name_SAMSUNG</th>\n",
       "      <th>Company Name_TOSHIBA</th>\n",
       "      <th>Company Name_Voltas</th>\n",
       "      <th>Company Name_Whirlpool</th>\n",
       "    </tr>\n",
       "  </thead>\n",
       "  <tbody>\n",
       "    <tr>\n",
       "      <th>0</th>\n",
       "      <td>Whirlpool 190 L Direct Cool Single Door 2 Star...</td>\n",
       "      <td>4.3</td>\n",
       "      <td>12740.0</td>\n",
       "      <td>14900.0</td>\n",
       "      <td>1 Refrigerator Unit, Warranty Card, User Manual</td>\n",
       "      <td>190</td>\n",
       "      <td>1</td>\n",
       "      <td>2.0</td>\n",
       "      <td>119.1</td>\n",
       "      <td>53.6</td>\n",
       "      <td>60.4</td>\n",
       "      <td>32.4</td>\n",
       "      <td>0</td>\n",
       "      <td>0</td>\n",
       "      <td>1</td>\n",
       "      <td>0</td>\n",
       "      <td>1</td>\n",
       "      <td>0</td>\n",
       "      <td>0</td>\n",
       "      <td>1</td>\n",
       "      <td>0</td>\n",
       "      <td>0</td>\n",
       "      <td>1</td>\n",
       "      <td>1</td>\n",
       "      <td>0</td>\n",
       "      <td>0</td>\n",
       "      <td>0</td>\n",
       "      <td>0</td>\n",
       "      <td>0</td>\n",
       "      <td>0</td>\n",
       "      <td>0</td>\n",
       "      <td>0</td>\n",
       "      <td>0</td>\n",
       "      <td>0</td>\n",
       "      <td>0</td>\n",
       "      <td>0</td>\n",
       "      <td>0</td>\n",
       "      <td>0</td>\n",
       "      <td>0</td>\n",
       "      <td>0</td>\n",
       "      <td>0</td>\n",
       "      <td>0</td>\n",
       "      <td>0</td>\n",
       "      <td>0</td>\n",
       "      <td>0</td>\n",
       "      <td>1</td>\n",
       "    </tr>\n",
       "    <tr>\n",
       "      <th>1</th>\n",
       "      <td>Whirlpool 190 L Direct Cool Single Door 2 Star...</td>\n",
       "      <td>4.3</td>\n",
       "      <td>11990.0</td>\n",
       "      <td>14400.0</td>\n",
       "      <td>1 Refrigerator, User Manual, Warranty Card</td>\n",
       "      <td>190</td>\n",
       "      <td>1</td>\n",
       "      <td>2.0</td>\n",
       "      <td>119.1</td>\n",
       "      <td>53.6</td>\n",
       "      <td>60.4</td>\n",
       "      <td>32.4</td>\n",
       "      <td>0</td>\n",
       "      <td>0</td>\n",
       "      <td>1</td>\n",
       "      <td>0</td>\n",
       "      <td>1</td>\n",
       "      <td>0</td>\n",
       "      <td>0</td>\n",
       "      <td>1</td>\n",
       "      <td>0</td>\n",
       "      <td>0</td>\n",
       "      <td>0</td>\n",
       "      <td>1</td>\n",
       "      <td>0</td>\n",
       "      <td>0</td>\n",
       "      <td>0</td>\n",
       "      <td>0</td>\n",
       "      <td>0</td>\n",
       "      <td>0</td>\n",
       "      <td>0</td>\n",
       "      <td>0</td>\n",
       "      <td>0</td>\n",
       "      <td>0</td>\n",
       "      <td>0</td>\n",
       "      <td>0</td>\n",
       "      <td>0</td>\n",
       "      <td>0</td>\n",
       "      <td>0</td>\n",
       "      <td>0</td>\n",
       "      <td>0</td>\n",
       "      <td>0</td>\n",
       "      <td>0</td>\n",
       "      <td>0</td>\n",
       "      <td>0</td>\n",
       "      <td>1</td>\n",
       "    </tr>\n",
       "    <tr>\n",
       "      <th>2</th>\n",
       "      <td>Whirlpool 190 L Direct Cool Single Door 2 Star...</td>\n",
       "      <td>4.3</td>\n",
       "      <td>13740.0</td>\n",
       "      <td>16000.0</td>\n",
       "      <td>1 Refrigerator Unit, Warranty Card, User Manual</td>\n",
       "      <td>190</td>\n",
       "      <td>1</td>\n",
       "      <td>2.0</td>\n",
       "      <td>119.1</td>\n",
       "      <td>53.6</td>\n",
       "      <td>60.4</td>\n",
       "      <td>32.4</td>\n",
       "      <td>0</td>\n",
       "      <td>0</td>\n",
       "      <td>1</td>\n",
       "      <td>0</td>\n",
       "      <td>1</td>\n",
       "      <td>0</td>\n",
       "      <td>0</td>\n",
       "      <td>1</td>\n",
       "      <td>0</td>\n",
       "      <td>0</td>\n",
       "      <td>1</td>\n",
       "      <td>1</td>\n",
       "      <td>0</td>\n",
       "      <td>0</td>\n",
       "      <td>0</td>\n",
       "      <td>0</td>\n",
       "      <td>0</td>\n",
       "      <td>0</td>\n",
       "      <td>0</td>\n",
       "      <td>0</td>\n",
       "      <td>0</td>\n",
       "      <td>0</td>\n",
       "      <td>0</td>\n",
       "      <td>0</td>\n",
       "      <td>0</td>\n",
       "      <td>0</td>\n",
       "      <td>0</td>\n",
       "      <td>0</td>\n",
       "      <td>0</td>\n",
       "      <td>0</td>\n",
       "      <td>0</td>\n",
       "      <td>0</td>\n",
       "      <td>0</td>\n",
       "      <td>1</td>\n",
       "    </tr>\n",
       "    <tr>\n",
       "      <th>3</th>\n",
       "      <td>Whirlpool 190 L Direct Cool Single Door 2 Star...</td>\n",
       "      <td>4.3</td>\n",
       "      <td>13699.0</td>\n",
       "      <td>16150.0</td>\n",
       "      <td>1 Refrigerator\\nUser Manual and Warranty Card</td>\n",
       "      <td>190</td>\n",
       "      <td>1</td>\n",
       "      <td>2.0</td>\n",
       "      <td>119.1</td>\n",
       "      <td>53.6</td>\n",
       "      <td>60.4</td>\n",
       "      <td>32.4</td>\n",
       "      <td>0</td>\n",
       "      <td>0</td>\n",
       "      <td>1</td>\n",
       "      <td>0</td>\n",
       "      <td>1</td>\n",
       "      <td>0</td>\n",
       "      <td>0</td>\n",
       "      <td>1</td>\n",
       "      <td>0</td>\n",
       "      <td>1</td>\n",
       "      <td>1</td>\n",
       "      <td>1</td>\n",
       "      <td>0</td>\n",
       "      <td>0</td>\n",
       "      <td>0</td>\n",
       "      <td>0</td>\n",
       "      <td>0</td>\n",
       "      <td>0</td>\n",
       "      <td>0</td>\n",
       "      <td>0</td>\n",
       "      <td>0</td>\n",
       "      <td>0</td>\n",
       "      <td>0</td>\n",
       "      <td>0</td>\n",
       "      <td>0</td>\n",
       "      <td>0</td>\n",
       "      <td>0</td>\n",
       "      <td>0</td>\n",
       "      <td>0</td>\n",
       "      <td>0</td>\n",
       "      <td>0</td>\n",
       "      <td>0</td>\n",
       "      <td>0</td>\n",
       "      <td>1</td>\n",
       "    </tr>\n",
       "    <tr>\n",
       "      <th>4</th>\n",
       "      <td>Whirlpool 190 L Direct Cool Single Door 2 Star...</td>\n",
       "      <td>4.3</td>\n",
       "      <td>13399.0</td>\n",
       "      <td>14950.0</td>\n",
       "      <td>1 Refrigerator, User Manual, Warranty Card</td>\n",
       "      <td>190</td>\n",
       "      <td>1</td>\n",
       "      <td>2.0</td>\n",
       "      <td>119.1</td>\n",
       "      <td>53.6</td>\n",
       "      <td>60.4</td>\n",
       "      <td>32.4</td>\n",
       "      <td>0</td>\n",
       "      <td>0</td>\n",
       "      <td>1</td>\n",
       "      <td>0</td>\n",
       "      <td>1</td>\n",
       "      <td>0</td>\n",
       "      <td>0</td>\n",
       "      <td>1</td>\n",
       "      <td>0</td>\n",
       "      <td>0</td>\n",
       "      <td>1</td>\n",
       "      <td>1</td>\n",
       "      <td>0</td>\n",
       "      <td>0</td>\n",
       "      <td>0</td>\n",
       "      <td>0</td>\n",
       "      <td>0</td>\n",
       "      <td>0</td>\n",
       "      <td>0</td>\n",
       "      <td>0</td>\n",
       "      <td>0</td>\n",
       "      <td>0</td>\n",
       "      <td>0</td>\n",
       "      <td>0</td>\n",
       "      <td>0</td>\n",
       "      <td>0</td>\n",
       "      <td>0</td>\n",
       "      <td>0</td>\n",
       "      <td>0</td>\n",
       "      <td>0</td>\n",
       "      <td>0</td>\n",
       "      <td>0</td>\n",
       "      <td>0</td>\n",
       "      <td>1</td>\n",
       "    </tr>\n",
       "  </tbody>\n",
       "</table>\n",
       "</div>"
      ],
      "text/plain": [
       "                                        Product Name  ...  Company Name_Whirlpool\n",
       "0  Whirlpool 190 L Direct Cool Single Door 2 Star...  ...                       1\n",
       "1  Whirlpool 190 L Direct Cool Single Door 2 Star...  ...                       1\n",
       "2  Whirlpool 190 L Direct Cool Single Door 2 Star...  ...                       1\n",
       "3  Whirlpool 190 L Direct Cool Single Door 2 Star...  ...                       1\n",
       "4  Whirlpool 190 L Direct Cool Single Door 2 Star...  ...                       1\n",
       "\n",
       "[5 rows x 46 columns]"
      ]
     },
     "execution_count": 66,
     "metadata": {},
     "output_type": "execute_result"
    }
   ],
   "source": [
    "data.head()"
   ]
  },
  {
   "cell_type": "markdown",
   "metadata": {
    "id": "156a1cc5"
   },
   "source": [
    "### `Target column is Prices `"
   ]
  },
  {
   "cell_type": "code",
   "execution_count": 67,
   "metadata": {
    "id": "b2e4bcd1"
   },
   "outputs": [],
   "source": [
    "y=data['Prices in Rs']\n",
    "x=data.drop(['Prices in Rs','Product Name','In The Box',],axis=1)"
   ]
  },
  {
   "cell_type": "code",
   "execution_count": 68,
   "metadata": {
    "id": "321507c7"
   },
   "outputs": [],
   "source": [
    "from sklearn.preprocessing import StandardScaler"
   ]
  },
  {
   "cell_type": "code",
   "execution_count": 69,
   "metadata": {
    "id": "0e4ee70b"
   },
   "outputs": [],
   "source": [
    "# using standard scaler\n",
    "scaler = StandardScaler()\n",
    "# transform data\n",
    "x= scaler.fit_transform(x)"
   ]
  },
  {
   "cell_type": "code",
   "execution_count": 70,
   "metadata": {
    "id": "cdca8723"
   },
   "outputs": [],
   "source": [
    "from sklearn.model_selection import train_test_split"
   ]
  },
  {
   "cell_type": "code",
   "execution_count": 71,
   "metadata": {
    "id": "d6c6e3f1"
   },
   "outputs": [],
   "source": [
    "x_train, x_test, y_train, y_test = train_test_split(x, y, test_size=0.25, random_state=21)"
   ]
  },
  {
   "cell_type": "markdown",
   "metadata": {
    "id": "02af85bf"
   },
   "source": [
    "## `Linear Model`"
   ]
  },
  {
   "cell_type": "code",
   "execution_count": 72,
   "metadata": {
    "id": "916d06da"
   },
   "outputs": [],
   "source": [
    "from sklearn import datasets, linear_model, metrics \n",
    "from sklearn.metrics import mean_squared_error, r2_score"
   ]
  },
  {
   "cell_type": "code",
   "execution_count": 73,
   "metadata": {
    "id": "28868803"
   },
   "outputs": [],
   "source": [
    "reg = linear_model.LinearRegression() \n",
    "reg.fit(x_train,y_train) \n",
    "y_pred=reg.predict(x_test)"
   ]
  },
  {
   "cell_type": "code",
   "execution_count": 74,
   "metadata": {
    "colab": {
     "base_uri": "https://localhost:8080/"
    },
    "id": "92afaef3",
    "outputId": "307d798e-c733-4ad1-ef21-7286fcd579e2"
   },
   "outputs": [
    {
     "name": "stdout",
     "output_type": "stream",
     "text": [
      "Coefficients: \n",
      " [-5.60225726e+02  1.96037464e+04  1.10004032e+03 -2.16920202e+03\n",
      " -9.12668706e+01 -1.10770187e+03 -5.99770180e+02  1.65077763e+00\n",
      "  4.05530612e+03  6.29578803e+02 -1.44101919e+03 -1.83466468e+03\n",
      " -1.38289176e+02  2.68919179e+02 -2.41995754e+02 -7.87207131e+02\n",
      "  2.98970686e+02 -1.79360226e+02 -3.83950310e+02 -2.49037497e+02\n",
      "  8.42587965e+01 -6.41637161e+01  9.88889635e+01 -2.38742359e-12\n",
      " -8.43916851e+02  2.08661727e+02 -1.28298744e+03  5.11883721e+02\n",
      " -3.75893131e+02  9.50775528e+02 -4.72463671e+02  2.62370672e+02\n",
      " -1.18360915e+02 -2.98447968e+02 -3.08930834e+01  3.60473119e+01\n",
      " -6.87504266e+02 -3.85784552e+02  2.69805517e+02  1.26126798e+03\n",
      "  1.22929422e+02 -2.88048914e+02  6.76400678e+02]\n"
     ]
    }
   ],
   "source": [
    "print('Coefficients: \\n', reg.coef_) "
   ]
  },
  {
   "cell_type": "code",
   "execution_count": 75,
   "metadata": {
    "colab": {
     "base_uri": "https://localhost:8080/"
    },
    "id": "ddebba13",
    "outputId": "45486fe1-cdea-430b-d90c-6c4913866109"
   },
   "outputs": [
    {
     "data": {
      "text/plain": [
       "0.9522562189651956"
      ]
     },
     "execution_count": 75,
     "metadata": {},
     "output_type": "execute_result"
    }
   ],
   "source": [
    "reg.score(x_test,y_test)"
   ]
  },
  {
   "cell_type": "code",
   "execution_count": 76,
   "metadata": {
    "colab": {
     "base_uri": "https://localhost:8080/"
    },
    "id": "fd0112d7",
    "outputId": "ea117b2b-cad2-47b6-f096-affe9ea051ed"
   },
   "outputs": [
    {
     "data": {
      "text/plain": [
       "0.9522562189651956"
      ]
     },
     "execution_count": 76,
     "metadata": {},
     "output_type": "execute_result"
    }
   ],
   "source": [
    "r2_score(y_test,y_pred)"
   ]
  },
  {
   "cell_type": "code",
   "execution_count": 101,
   "metadata": {
    "id": "eoxbYaIJez03"
   },
   "outputs": [],
   "source": [
    "y_pred_train_LR = reg.predict(x_train)"
   ]
  },
  {
   "cell_type": "code",
   "execution_count": 103,
   "metadata": {
    "colab": {
     "base_uri": "https://localhost:8080/"
    },
    "id": "O3KQHI0Ye36_",
    "outputId": "d6d7d971-a544-4d8b-c901-49cd5d9aa39a"
   },
   "outputs": [
    {
     "name": "stdout",
     "output_type": "stream",
     "text": [
      "Training set score: 0.9796616311463349\n",
      "Test set score: 0.9522562189651956\n"
     ]
    }
   ],
   "source": [
    "print('Training set score:',(reg.score(x_train, y_train)))\n",
    "\n",
    "print('Test set score:',(reg.score(x_test, y_test)))"
   ]
  },
  {
   "cell_type": "markdown",
   "metadata": {
    "id": "3cec1f31"
   },
   "source": [
    "## `Random Forest`"
   ]
  },
  {
   "cell_type": "code",
   "execution_count": 77,
   "metadata": {
    "id": "621e1912"
   },
   "outputs": [],
   "source": [
    "from sklearn.ensemble import RandomForestRegressor"
   ]
  },
  {
   "cell_type": "code",
   "execution_count": 78,
   "metadata": {
    "id": "44afd8e2"
   },
   "outputs": [],
   "source": [
    "from sklearn.model_selection import  KFold, GridSearchCV, RandomizedSearchCV"
   ]
  },
  {
   "cell_type": "code",
   "execution_count": 79,
   "metadata": {
    "id": "7d31dbbf"
   },
   "outputs": [],
   "source": [
    "params = [{'n_estimators': [10,20,50,70],\n",
    "           'min_samples_split': [2, 5, 10],\n",
    "           'min_samples_leaf': [1, 2, 5],\n",
    "           'max_depth': [20, 30, 40,50]}]"
   ]
  },
  {
   "cell_type": "code",
   "execution_count": 80,
   "metadata": {
    "id": "7a9e27b1"
   },
   "outputs": [],
   "source": [
    "model = RandomForestRegressor()"
   ]
  },
  {
   "cell_type": "markdown",
   "metadata": {
    "id": "ee8508df"
   },
   "source": [
    "cv_scheme = KFold(n_splits=5, shuffle=True, random_state=1)\n",
    "cv = GridSearchCV(estimator=model, param_grid=params, scoring='r2',\n",
    "                  cv=cv_scheme, return_train_score=True, n_jobs=5,verbose=True)\n",
    "\n",
    "cv.fit(x_train, y_train)"
   ]
  },
  {
   "cell_type": "markdown",
   "metadata": {
    "id": "9b082877"
   },
   "source": [
    "print(\"Best parameters for Random Forest Regression:\")\n",
    "print(cv.best_params_)"
   ]
  },
  {
   "cell_type": "code",
   "execution_count": 81,
   "metadata": {
    "colab": {
     "base_uri": "https://localhost:8080/"
    },
    "id": "de8e7b88",
    "outputId": "252baec8-e295-4df4-e82f-84aaa516fade"
   },
   "outputs": [
    {
     "data": {
      "text/plain": [
       "RandomForestRegressor(bootstrap=True, ccp_alpha=0.0, criterion='mse',\n",
       "                      max_depth=30, max_features='auto', max_leaf_nodes=None,\n",
       "                      max_samples=None, min_impurity_decrease=0.0,\n",
       "                      min_impurity_split=None, min_samples_leaf=2,\n",
       "                      min_samples_split=5, min_weight_fraction_leaf=0.0,\n",
       "                      n_estimators=20, n_jobs=None, oob_score=False,\n",
       "                      random_state=30, verbose=0, warm_start=False)"
      ]
     },
     "execution_count": 81,
     "metadata": {},
     "output_type": "execute_result"
    }
   ],
   "source": [
    "random_forest = RandomForestRegressor(n_estimators=20,random_state=30,max_depth=30,min_samples_leaf=2,min_samples_split=5)\n",
    "random_forest.fit(x_train, y_train)"
   ]
  },
  {
   "cell_type": "code",
   "execution_count": 82,
   "metadata": {
    "id": "dd7cafaf"
   },
   "outputs": [],
   "source": [
    "y_pred_RF=random_forest.predict(x_test)"
   ]
  },
  {
   "cell_type": "code",
   "execution_count": 83,
   "metadata": {
    "colab": {
     "base_uri": "https://localhost:8080/"
    },
    "id": "7c969a76",
    "outputId": "475eb325-6767-4725-969a-d3a797fd20e7"
   },
   "outputs": [
    {
     "data": {
      "text/plain": [
       "0.9597526409048482"
      ]
     },
     "execution_count": 83,
     "metadata": {},
     "output_type": "execute_result"
    }
   ],
   "source": [
    "random_forest.score(x_test,y_test)"
   ]
  },
  {
   "cell_type": "code",
   "execution_count": 84,
   "metadata": {
    "colab": {
     "base_uri": "https://localhost:8080/"
    },
    "id": "16ee972e",
    "outputId": "32538eca-41b7-4687-d2f4-7651183ff67b"
   },
   "outputs": [
    {
     "data": {
      "text/plain": [
       "0.9597526409048482"
      ]
     },
     "execution_count": 84,
     "metadata": {},
     "output_type": "execute_result"
    }
   ],
   "source": [
    "r2_score(y_test,y_pred_RF)"
   ]
  },
  {
   "cell_type": "code",
   "execution_count": 85,
   "metadata": {
    "id": "meAArZmFQoPA"
   },
   "outputs": [],
   "source": [
    "y_pred_train_RF = random_forest.predict(x_train)"
   ]
  },
  {
   "cell_type": "code",
   "execution_count": 86,
   "metadata": {
    "colab": {
     "base_uri": "https://localhost:8080/"
    },
    "id": "Gc5OIHz2Q0ON",
    "outputId": "324d347c-d352-46ec-eb0b-a2dea078285d"
   },
   "outputs": [
    {
     "name": "stdout",
     "output_type": "stream",
     "text": [
      "Training set score: 0.9661786762247093\n",
      "Test set score: 0.9597526409048482\n"
     ]
    }
   ],
   "source": [
    "print('Training set score:',(random_forest.score(x_train, y_train)))\n",
    "\n",
    "print('Test set score:',(random_forest.score(x_test, y_test)))"
   ]
  },
  {
   "cell_type": "markdown",
   "metadata": {
    "id": "Pob-CP6G7hgs"
   },
   "source": [
    "### `Decision Tree`"
   ]
  },
  {
   "cell_type": "code",
   "execution_count": 87,
   "metadata": {
    "id": "4UoK-r6X7liI"
   },
   "outputs": [],
   "source": [
    "from sklearn.tree import DecisionTreeRegressor"
   ]
  },
  {
   "cell_type": "code",
   "execution_count": 88,
   "metadata": {
    "colab": {
     "base_uri": "https://localhost:8080/"
    },
    "id": "v-XxaUvv7mtN",
    "outputId": "f9ff3d6f-98d6-49d2-a1df-dde10a6ff1bc"
   },
   "outputs": [
    {
     "data": {
      "text/plain": [
       "DecisionTreeRegressor(ccp_alpha=0.0, criterion='mse', max_depth=None,\n",
       "                      max_features=None, max_leaf_nodes=None,\n",
       "                      min_impurity_decrease=0.0, min_impurity_split=None,\n",
       "                      min_samples_leaf=1, min_samples_split=2,\n",
       "                      min_weight_fraction_leaf=0.0, presort='deprecated',\n",
       "                      random_state=None, splitter='best')"
      ]
     },
     "execution_count": 88,
     "metadata": {},
     "output_type": "execute_result"
    }
   ],
   "source": [
    "model2= DecisionTreeRegressor()\n",
    "model2.fit(x_train,y_train)"
   ]
  },
  {
   "cell_type": "code",
   "execution_count": 89,
   "metadata": {
    "id": "IQ5_fpE_7rKk"
   },
   "outputs": [],
   "source": [
    "y_pred_DT = model2.predict(x_test)"
   ]
  },
  {
   "cell_type": "code",
   "execution_count": 90,
   "metadata": {
    "colab": {
     "base_uri": "https://localhost:8080/"
    },
    "id": "xorJC5CL7vwk",
    "outputId": "699be402-e1d2-4f00-e87d-4630fd30c7dc"
   },
   "outputs": [
    {
     "data": {
      "text/plain": [
       "0.9398447805637685"
      ]
     },
     "execution_count": 90,
     "metadata": {},
     "output_type": "execute_result"
    }
   ],
   "source": [
    "model2.score(x_test,y_test)"
   ]
  },
  {
   "cell_type": "code",
   "execution_count": 91,
   "metadata": {
    "colab": {
     "base_uri": "https://localhost:8080/"
    },
    "id": "gTNMCq-F74m0",
    "outputId": "82ba8617-b50b-435a-a3c0-8bb0a8897031"
   },
   "outputs": [
    {
     "data": {
      "text/plain": [
       "0.9398447805637685"
      ]
     },
     "execution_count": 91,
     "metadata": {},
     "output_type": "execute_result"
    }
   ],
   "source": [
    "r2_score(y_test,y_pred_DT)"
   ]
  },
  {
   "cell_type": "code",
   "execution_count": 92,
   "metadata": {
    "id": "HwLWUV9zPfr1"
   },
   "outputs": [],
   "source": [
    "y_pred_train = model2.predict(x_train)"
   ]
  },
  {
   "cell_type": "code",
   "execution_count": 93,
   "metadata": {
    "colab": {
     "base_uri": "https://localhost:8080/"
    },
    "id": "mZtdDslhPTup",
    "outputId": "376103f9-16c9-4b99-95f8-1397bab2b21e"
   },
   "outputs": [
    {
     "name": "stdout",
     "output_type": "stream",
     "text": [
      "Training set score: 0.999938917224223\n",
      "Test set score: 0.9398447805637685\n"
     ]
    }
   ],
   "source": [
    "print('Training set score:',(model2.score(x_train, y_train)))\n",
    "\n",
    "print('Test set score:',(model2.score(x_test, y_test)))"
   ]
  },
  {
   "cell_type": "markdown",
   "metadata": {
    "id": "QKFjfr2_9PJV"
   },
   "source": [
    "### `XGBoost`"
   ]
  },
  {
   "cell_type": "code",
   "execution_count": 94,
   "metadata": {
    "id": "yJ-I6-iu9UdX"
   },
   "outputs": [],
   "source": [
    "import xgboost\n",
    "from sklearn.metrics import explained_variance_score"
   ]
  },
  {
   "cell_type": "markdown",
   "metadata": {
    "id": "JbVL6ChuS8Wa"
   },
   "source": [
    "# Various hyper-parameters to tune\n",
    "xgb1 = xgboost.XGBRegressor()\n",
    "parameters = {\n",
    "              'learning_rate': [.05,.07,.1,.13,.15],\n",
    "              'max_depth': [3,5,7,9],\n",
    "              'min_child_weight': [1,3,5,7],\n",
    "              'colsample_bytree': [.3,.5,0.7],\n",
    "              'n_estimators': [200,300,500,700]}\n",
    "\n",
    "cv_scheme = KFold(n_splits=4, shuffle=True)\n",
    "\n",
    "xgb_grid = GridSearchCV(xgb1,\n",
    "                        parameters,\n",
    "                        cv = cv_scheme,\n",
    "                        n_jobs = 5,\n",
    "                        verbose=True)\n",
    "\n",
    "xgb_grid.fit(x_train,y_train)\n",
    "\n",
    "print(xgb_grid.best_score_)\n",
    "print(xgb_grid.best_params_)"
   ]
  },
  {
   "cell_type": "code",
   "execution_count": 95,
   "metadata": {
    "id": "sdZgSOuoW_xL"
   },
   "outputs": [],
   "source": [
    "xgb = xgboost.XGBRegressor(n_estimators=200, learning_rate=0.1,\n",
    "                           colsample_bytree=0.7, max_depth=7, min_child_weight= 1)"
   ]
  },
  {
   "cell_type": "code",
   "execution_count": 96,
   "metadata": {
    "colab": {
     "base_uri": "https://localhost:8080/"
    },
    "id": "1s0Au-oaXN78",
    "outputId": "60e5ac50-f45f-4c7b-ced5-5e134d662148"
   },
   "outputs": [
    {
     "name": "stdout",
     "output_type": "stream",
     "text": [
      "[06:11:09] WARNING: /workspace/src/objective/regression_obj.cu:152: reg:linear is now deprecated in favor of reg:squarederror.\n"
     ]
    },
    {
     "data": {
      "text/plain": [
       "XGBRegressor(base_score=0.5, booster='gbtree', colsample_bylevel=1,\n",
       "             colsample_bynode=1, colsample_bytree=0.7, gamma=0,\n",
       "             importance_type='gain', learning_rate=0.1, max_delta_step=0,\n",
       "             max_depth=7, min_child_weight=1, missing=None, n_estimators=200,\n",
       "             n_jobs=1, nthread=None, objective='reg:linear', random_state=0,\n",
       "             reg_alpha=0, reg_lambda=1, scale_pos_weight=1, seed=None,\n",
       "             silent=None, subsample=1, verbosity=1)"
      ]
     },
     "execution_count": 96,
     "metadata": {},
     "output_type": "execute_result"
    }
   ],
   "source": [
    "xgb.fit(x_train,y_train)"
   ]
  },
  {
   "cell_type": "code",
   "execution_count": 97,
   "metadata": {
    "id": "nY1IycqpcSIr"
   },
   "outputs": [],
   "source": [
    "y_pred_XG = xgb.predict(x_test)"
   ]
  },
  {
   "cell_type": "code",
   "execution_count": 98,
   "metadata": {
    "colab": {
     "base_uri": "https://localhost:8080/"
    },
    "id": "b4GorIkUcXTi",
    "outputId": "a27820ff-13fb-41c0-eaf5-0a645ba92582"
   },
   "outputs": [
    {
     "data": {
      "text/plain": [
       "0.9643987368720436"
      ]
     },
     "execution_count": 98,
     "metadata": {},
     "output_type": "execute_result"
    }
   ],
   "source": [
    "xgb.score(x_test,y_test)"
   ]
  },
  {
   "cell_type": "code",
   "execution_count": 99,
   "metadata": {
    "colab": {
     "base_uri": "https://localhost:8080/"
    },
    "id": "YAGPZWMbceCb",
    "outputId": "e7882bbc-b24d-4d6b-9be1-70ba8d909365"
   },
   "outputs": [
    {
     "data": {
      "text/plain": [
       "0.9643987368720436"
      ]
     },
     "execution_count": 99,
     "metadata": {},
     "output_type": "execute_result"
    }
   ],
   "source": [
    "r2_score(y_test,y_pred_XG)"
   ]
  },
  {
   "cell_type": "code",
   "execution_count": 100,
   "metadata": {
    "colab": {
     "base_uri": "https://localhost:8080/"
    },
    "id": "gRKGMJgRcn2X",
    "outputId": "e74e6a46-41ff-44c0-90b5-2ba4db9b007e"
   },
   "outputs": [
    {
     "name": "stdout",
     "output_type": "stream",
     "text": [
      "Training set score: 0.9997013101199312\n",
      "Test set score: 0.9643987368720436\n"
     ]
    }
   ],
   "source": [
    "print('Training set score:',(xgb.score(x_train, y_train)))\n",
    "\n",
    "print('Test set score:',(xgb.score(x_test, y_test)))"
   ]
  }
 ],
 "metadata": {
  "colab": {
   "collapsed_sections": [],
   "name": "Model Building on Refrigerator Data.ipynb",
   "provenance": []
  },
  "kernelspec": {
   "display_name": "Python 3",
   "language": "python",
   "name": "python3"
  },
  "language_info": {
   "codemirror_mode": {
    "name": "ipython",
    "version": 3
   },
   "file_extension": ".py",
   "mimetype": "text/x-python",
   "name": "python",
   "nbconvert_exporter": "python",
   "pygments_lexer": "ipython3",
   "version": "3.8.5"
  }
 },
 "nbformat": 4,
 "nbformat_minor": 5
}
